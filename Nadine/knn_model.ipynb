{
 "cells": [
  {
   "cell_type": "code",
   "execution_count": 1,
   "metadata": {
    "collapsed": true
   },
   "outputs": [],
   "source": [
    "from sklearn.metrics import accuracy_score, confusion_matrix, ConfusionMatrixDisplay\n",
    "import pandas as pd\n",
    "import numpy as np\n",
    "from sklearn import preprocessing\n",
    "from sklearn import linear_model\n",
    "from sklearn import decomposition\n",
    "from matplotlib import pyplot as plt\n",
    "from sklearn import neighbors\n",
    "\n",
    "from double_CV_builder import DCV"
   ]
  },
  {
   "cell_type": "code",
   "execution_count": 2,
   "metadata": {
    "pycharm": {
     "name": "#%%\n"
    }
   },
   "outputs": [
    {
     "name": "stdout",
     "output_type": "stream",
     "text": [
      "dict_keys(['algorithm', 'leaf_size', 'metric', 'metric_params', 'n_jobs', 'n_neighbors', 'p', 'weights'])\n"
     ]
    }
   ],
   "source": [
    "# imports the data\n",
    "data = pd.read_csv(\"../raw_data/train_call.txt\", index_col=0, delimiter=\"\\t\").transpose()\n",
    "topInfo = data.iloc[:3]\n",
    "data = data.iloc[4:].dropna(axis=1)\n",
    "classes = pd.read_csv(\"../raw_data/train_clinical.txt\", delimiter=\"\\t\", index_col=0)\n",
    "data = classes.join(data).set_index(\"Subgroup\").dropna()\n",
    "# Add 1 to data because of chi-square feature selection\n",
    "\n",
    "\n",
    "DCV.outer_repeats = 5\n",
    "DCV.inner_repeats = 10\n",
    "DCV.num_features = 150\n",
    "\n",
    "model = neighbors.KNeighborsClassifier(n_jobs=-1)\n",
    "modeller = DCV(model)\n",
    "# prints all the params you can change :)\n",
    "print(model.get_params().keys())"
   ]
  },
  {
   "cell_type": "code",
   "execution_count": 3,
   "metadata": {
    "pycharm": {
     "name": "#%%\n"
    }
   },
   "outputs": [
    {
     "data": {
      "text/plain": "{'n_neighbors': range(3, 15, 2)}"
     },
     "execution_count": 3,
     "metadata": {},
     "output_type": "execute_result"
    }
   ],
   "source": [
    "# select which params you want to test with the inner loop\n",
    "# space is the paramater space\n",
    "modeller.hyperParams['n_neighbors'] = range(3,15,2)\n",
    "#modeller.hyperParams['l1_ratio'] = [0.1, 0.3, 0.5, 0.7, 0.9]\n",
    "\n",
    "\n",
    "modeller.hyperParams"
   ]
  },
  {
   "cell_type": "code",
   "execution_count": 4,
   "metadata": {
    "pycharm": {
     "name": "#%%\n"
    }
   },
   "outputs": [
    {
     "name": "stdout",
     "output_type": "stream",
     "text": [
      "(99, 1352)\n",
      "accuracy: 0.45; precision:0.45; model:KNeighborsClassifier(n_jobs=-1, n_neighbors=9)\n",
      "accuracy: 0.55; precision:0.55; model:KNeighborsClassifier(n_jobs=-1, n_neighbors=3)\n",
      "accuracy: 0.45; precision:0.45; model:KNeighborsClassifier(n_jobs=-1, n_neighbors=7)\n",
      "accuracy: 0.8; precision:0.8; model:KNeighborsClassifier(n_jobs=-1, n_neighbors=3)\n",
      "accuracy: 0.4; precision:0.4; model:KNeighborsClassifier(n_jobs=-1, n_neighbors=7)\n",
      "accuracy: 0.45; precision:0.45; model:KNeighborsClassifier(n_jobs=-1, n_neighbors=9)\n",
      "accuracy: 0.55; precision:0.55; model:KNeighborsClassifier(n_jobs=-1, n_neighbors=3)\n",
      "accuracy: 0.45; precision:0.45; model:KNeighborsClassifier(n_jobs=-1, n_neighbors=7)\n",
      "accuracy: 0.8; precision:0.8; model:KNeighborsClassifier(n_jobs=-1, n_neighbors=3)\n",
      "accuracy: 0.4; precision:0.4; model:KNeighborsClassifier(n_jobs=-1, n_neighbors=7)\n",
      "accuracy: 0.45; precision:0.45; model:KNeighborsClassifier(n_jobs=-1, n_neighbors=9)\n",
      "accuracy: 0.55; precision:0.55; model:KNeighborsClassifier(n_jobs=-1, n_neighbors=3)\n",
      "accuracy: 0.45; precision:0.45; model:KNeighborsClassifier(n_jobs=-1, n_neighbors=7)\n",
      "accuracy: 0.8; precision:0.8; model:KNeighborsClassifier(n_jobs=-1, n_neighbors=3)\n",
      "accuracy: 0.4; precision:0.4; model:KNeighborsClassifier(n_jobs=-1, n_neighbors=7)\n",
      "accuracy: 0.45; precision:0.45; model:KNeighborsClassifier(n_jobs=-1, n_neighbors=9)\n",
      "accuracy: 0.55; precision:0.55; model:KNeighborsClassifier(n_jobs=-1, n_neighbors=3)\n",
      "accuracy: 0.45; precision:0.45; model:KNeighborsClassifier(n_jobs=-1, n_neighbors=7)\n",
      "accuracy: 0.8; precision:0.8; model:KNeighborsClassifier(n_jobs=-1, n_neighbors=3)\n",
      "accuracy: 0.4; precision:0.4; model:KNeighborsClassifier(n_jobs=-1, n_neighbors=7)\n",
      "accuracy: 0.45; precision:0.45; model:KNeighborsClassifier(n_jobs=-1, n_neighbors=9)\n",
      "accuracy: 0.55; precision:0.55; model:KNeighborsClassifier(n_jobs=-1, n_neighbors=3)\n",
      "accuracy: 0.45; precision:0.45; model:KNeighborsClassifier(n_jobs=-1, n_neighbors=7)\n",
      "accuracy: 0.8; precision:0.8; model:KNeighborsClassifier(n_jobs=-1, n_neighbors=3)\n",
      "accuracy: 0.4; precision:0.4; model:KNeighborsClassifier(n_jobs=-1, n_neighbors=7)\n",
      "accuracy: 0.45; precision:0.45; model:KNeighborsClassifier(n_jobs=-1, n_neighbors=9)\n",
      "accuracy: 0.55; precision:0.55; model:KNeighborsClassifier(n_jobs=-1, n_neighbors=3)\n",
      "accuracy: 0.45; precision:0.45; model:KNeighborsClassifier(n_jobs=-1, n_neighbors=7)\n",
      "accuracy: 0.8; precision:0.8; model:KNeighborsClassifier(n_jobs=-1, n_neighbors=3)\n",
      "accuracy: 0.4; precision:0.4; model:KNeighborsClassifier(n_jobs=-1, n_neighbors=7)\n",
      "accuracy: 0.45; precision:0.45; model:KNeighborsClassifier(n_jobs=-1, n_neighbors=9)\n",
      "accuracy: 0.55; precision:0.55; model:KNeighborsClassifier(n_jobs=-1, n_neighbors=3)\n",
      "accuracy: 0.45; precision:0.45; model:KNeighborsClassifier(n_jobs=-1, n_neighbors=7)\n",
      "accuracy: 0.8; precision:0.8; model:KNeighborsClassifier(n_jobs=-1, n_neighbors=3)\n",
      "accuracy: 0.4; precision:0.4; model:KNeighborsClassifier(n_jobs=-1, n_neighbors=7)\n",
      "accuracy: 0.45; precision:0.45; model:KNeighborsClassifier(n_jobs=-1, n_neighbors=9)\n",
      "accuracy: 0.55; precision:0.55; model:KNeighborsClassifier(n_jobs=-1, n_neighbors=3)\n",
      "accuracy: 0.45; precision:0.45; model:KNeighborsClassifier(n_jobs=-1, n_neighbors=7)\n",
      "accuracy: 0.8; precision:0.8; model:KNeighborsClassifier(n_jobs=-1, n_neighbors=3)\n",
      "accuracy: 0.4; precision:0.4; model:KNeighborsClassifier(n_jobs=-1, n_neighbors=7)\n",
      "accuracy: 0.45; precision:0.45; model:KNeighborsClassifier(n_jobs=-1, n_neighbors=9)\n",
      "accuracy: 0.55; precision:0.55; model:KNeighborsClassifier(n_jobs=-1, n_neighbors=3)\n",
      "accuracy: 0.45; precision:0.45; model:KNeighborsClassifier(n_jobs=-1, n_neighbors=7)\n",
      "accuracy: 0.8; precision:0.8; model:KNeighborsClassifier(n_jobs=-1, n_neighbors=3)\n",
      "accuracy: 0.4; precision:0.4; model:KNeighborsClassifier(n_jobs=-1, n_neighbors=7)\n",
      "accuracy: 0.45; precision:0.45; model:KNeighborsClassifier(n_jobs=-1, n_neighbors=9)\n",
      "accuracy: 0.55; precision:0.55; model:KNeighborsClassifier(n_jobs=-1, n_neighbors=3)\n",
      "accuracy: 0.45; precision:0.45; model:KNeighborsClassifier(n_jobs=-1, n_neighbors=7)\n",
      "accuracy: 0.8; precision:0.8; model:KNeighborsClassifier(n_jobs=-1, n_neighbors=3)\n",
      "accuracy: 0.4; precision:0.4; model:KNeighborsClassifier(n_jobs=-1, n_neighbors=7)\n",
      "(99, 1352)\n",
      "0.7575757575757576\n"
     ]
    }
   ],
   "source": [
    "# this does everything for you :)\n",
    "# first is the data used, seconds comes the classifications and than with loop the amount of loops you want to do\n",
    "\n",
    "modeller.train_fit(data=data, classes=data.index, loop=10)\n",
    "# some test code\n",
    "\n",
    "print(accuracy_score(DCV.__class_cleaner__(None, data.index),modeller.predict(data)))"
   ]
  },
  {
   "cell_type": "code",
   "execution_count": 5,
   "metadata": {
    "pycharm": {
     "name": "#%%\n"
    }
   },
   "outputs": [
    {
     "data": {
      "text/plain": "[array([False, False, False, ..., False, False, False]),\n array([False, False, False, ..., False, False, False]),\n array([False, False, False, ..., False, False, False]),\n array([False, False, False, ..., False, False, False]),\n array([False, False, False, ..., False, False, False]),\n array([False, False, False, ..., False, False, False]),\n array([False, False, False, ..., False, False, False]),\n array([False, False, False, ..., False, False, False]),\n array([False, False, False, ..., False, False, False]),\n array([False, False, False, ..., False, False, False])]"
     },
     "execution_count": 5,
     "metadata": {},
     "output_type": "execute_result"
    }
   ],
   "source": [
    "modeller.get_best_features()"
   ]
  },
  {
   "cell_type": "code",
   "execution_count": 6,
   "metadata": {
    "pycharm": {
     "name": "#%%\n"
    }
   },
   "outputs": [
    {
     "name": "stdout",
     "output_type": "stream",
     "text": [
      "                  Start          End  Nclone\n",
      "Chromosome                                  \n",
      "1            30716764.0   30984527.0    19.0\n",
      "1            31136968.0   31957740.0    91.0\n",
      "1            72489681.0   72620747.0     5.0\n",
      "1           149369522.0  149394958.0     5.0\n",
      "2            61025070.0   61061211.0     5.0\n",
      "...                 ...          ...     ...\n",
      "8            41575958.0   42118548.0    55.0\n",
      "8            42123757.0   42175380.0     9.0\n",
      "8            48952907.0   49214104.0    27.0\n",
      "8            49291873.0   50106229.0    46.0\n",
      "8            50133866.0   50469104.0    16.0\n",
      "\n",
      "[150 rows x 3 columns]\n"
     ]
    }
   ],
   "source": [
    "print(topInfo.transpose().iloc[:-1].loc[modeller.get_best_features()[0]])"
   ]
  },
  {
   "cell_type": "code",
   "execution_count": 28,
   "metadata": {
    "pycharm": {
     "name": "#%%\n"
    }
   },
   "outputs": [
    {
     "data": {
      "text/plain": "                  0\nn_neighbors        \n3            0.6875\n5            0.7375\n7            0.7375\n9            0.7625\n11           0.7250\n...             ...\n5            0.6000\n7            0.6250\n9            0.6250\n11           0.6125\n13           0.5750\n\n[300 rows x 1 columns]",
      "text/html": "<div>\n<style scoped>\n    .dataframe tbody tr th:only-of-type {\n        vertical-align: middle;\n    }\n\n    .dataframe tbody tr th {\n        vertical-align: top;\n    }\n\n    .dataframe thead th {\n        text-align: right;\n    }\n</style>\n<table border=\"1\" class=\"dataframe\">\n  <thead>\n    <tr style=\"text-align: right;\">\n      <th></th>\n      <th>0</th>\n    </tr>\n    <tr>\n      <th>n_neighbors</th>\n      <th></th>\n    </tr>\n  </thead>\n  <tbody>\n    <tr>\n      <th>3</th>\n      <td>0.6875</td>\n    </tr>\n    <tr>\n      <th>5</th>\n      <td>0.7375</td>\n    </tr>\n    <tr>\n      <th>7</th>\n      <td>0.7375</td>\n    </tr>\n    <tr>\n      <th>9</th>\n      <td>0.7625</td>\n    </tr>\n    <tr>\n      <th>11</th>\n      <td>0.7250</td>\n    </tr>\n    <tr>\n      <th>...</th>\n      <td>...</td>\n    </tr>\n    <tr>\n      <th>5</th>\n      <td>0.6000</td>\n    </tr>\n    <tr>\n      <th>7</th>\n      <td>0.6250</td>\n    </tr>\n    <tr>\n      <th>9</th>\n      <td>0.6250</td>\n    </tr>\n    <tr>\n      <th>11</th>\n      <td>0.6125</td>\n    </tr>\n    <tr>\n      <th>13</th>\n      <td>0.5750</td>\n    </tr>\n  </tbody>\n</table>\n<p>300 rows × 1 columns</p>\n</div>"
     },
     "execution_count": 28,
     "metadata": {},
     "output_type": "execute_result"
    }
   ],
   "source": [
    "modeller.test_accuracy"
   ]
  },
  {
   "cell_type": "code",
   "execution_count": 7,
   "metadata": {
    "pycharm": {
     "name": "#%%\n"
    }
   },
   "outputs": [],
   "source": [
    "modeller.test_precision"
   ]
  },
  {
   "cell_type": "code",
   "execution_count": null,
   "outputs": [],
   "source": [
    "modeller.test_recall\n"
   ],
   "metadata": {
    "collapsed": false,
    "pycharm": {
     "name": "#%%\n"
    }
   }
  },
  {
   "cell_type": "code",
   "execution_count": 8,
   "metadata": {
    "pycharm": {
     "name": "#%%\n"
    }
   },
   "outputs": [
    {
     "name": "stdout",
     "output_type": "stream",
     "text": [
      "(99, 1352)\n"
     ]
    },
    {
     "data": {
      "text/plain": "<sklearn.metrics._plot.confusion_matrix.ConfusionMatrixDisplay at 0x1cfedf4fd00>"
     },
     "execution_count": 8,
     "metadata": {},
     "output_type": "execute_result"
    },
    {
     "data": {
      "text/plain": "<Figure size 432x288 with 2 Axes>",
      "image/png": "[encoded data removed]"
     },
     "metadata": {
      "needs_background": "light"
     },
     "output_type": "display_data"
    }
   ],
   "source": [
    "cm = confusion_matrix(data.index, modeller.predict(data))\n",
    "disp = ConfusionMatrixDisplay(confusion_matrix=cm,\n",
    "                             display_labels=modeller.get_best_model().classes_)\n",
    "disp.plot()"
   ]
  },
  {
   "cell_type": "code",
   "execution_count": 10,
   "outputs": [
    {
     "data": {
      "text/plain": "KNeighborsClassifier(n_jobs=-1, n_neighbors=3)"
     },
     "execution_count": 10,
     "metadata": {},
     "output_type": "execute_result"
    }
   ],
   "source": [
    "modeller.get_best_model()"
   ],
   "metadata": {
    "collapsed": false,
    "pycharm": {
     "name": "#%%\n"
    }
   }
  },
  {
   "cell_type": "code",
   "execution_count": 9,
   "metadata": {
    "pycharm": {
     "name": "#%%\n"
    }
   },
   "outputs": [
    {
     "ename": "AttributeError",
     "evalue": "'function' object has no attribute 'predict_proba'",
     "output_type": "error",
     "traceback": [
      "\u001B[1;31m---------------------------------------------------------------------------\u001B[0m",
      "\u001B[1;31mAttributeError\u001B[0m                            Traceback (most recent call last)",
      "\u001B[1;32m<ipython-input-9-45da24b4bf8d>\u001B[0m in \u001B[0;36m<module>\u001B[1;34m\u001B[0m\n\u001B[0;32m      1\u001B[0m \u001B[1;32mimport\u001B[0m \u001B[0mscipy\u001B[0m\u001B[1;33m.\u001B[0m\u001B[0mstats\u001B[0m \u001B[1;32mas\u001B[0m \u001B[0mstats\u001B[0m\u001B[1;33m\u001B[0m\u001B[1;33m\u001B[0m\u001B[0m\n\u001B[0;32m      2\u001B[0m \u001B[1;33m\u001B[0m\u001B[0m\n\u001B[1;32m----> 3\u001B[1;33m \u001B[0mstats\u001B[0m\u001B[1;33m.\u001B[0m\u001B[0mwilcoxon\u001B[0m\u001B[1;33m(\u001B[0m\u001B[0mmodeller\u001B[0m\u001B[1;33m.\u001B[0m\u001B[0mget_best_model\u001B[0m\u001B[1;33m.\u001B[0m\u001B[0mpredict_proba\u001B[0m\u001B[1;33m(\u001B[0m\u001B[0mdata\u001B[0m\u001B[1;33m)\u001B[0m\u001B[1;33m,\u001B[0m \u001B[0mdata\u001B[0m\u001B[1;33m.\u001B[0m\u001B[0mindex\u001B[0m\u001B[1;33m)\u001B[0m\u001B[1;33m\u001B[0m\u001B[1;33m\u001B[0m\u001B[0m\n\u001B[0m\u001B[0;32m      4\u001B[0m \u001B[1;33m\u001B[0m\u001B[0m\n",
      "\u001B[1;31mAttributeError\u001B[0m: 'function' object has no attribute 'predict_proba'"
     ]
    }
   ],
   "source": [
    "import scipy.stats as stats\n",
    "model.predict_proba(data,)\n",
    "stats.wilcoxon(modeller.get_best_model.predict_proba(data), data.index)"
   ]
  },
  {
   "cell_type": "code",
   "execution_count": null,
   "metadata": {
    "pycharm": {
     "name": "#%%\n"
    }
   },
   "outputs": [],
   "source": [
    "print(modeller.get_best_features())"
   ]
  },
  {
   "cell_type": "markdown",
   "metadata": {},
   "source": [
    "#todo\n",
    "box plots accuracy, precision, recall\n",
    "best model. and params features\n",
    "\n",
    "save all the juicy info (params, and features)"
   ]
  },
  {
   "cell_type": "code",
   "execution_count": null,
   "metadata": {
    "pycharm": {
     "name": "#%%\n"
    }
   },
   "outputs": [],
   "source": [
    "modeller.all_accuracies\n",
    "#modeller.all_precision\n",
    "#modeller.all_recall"
   ]
  }
 ],
 "metadata": {
  "kernelspec": {
   "display_name": "Python 3",
   "language": "python",
   "name": "python3"
  },
  "language_info": {
   "codemirror_mode": {
    "name": "ipython",
    "version": 3
   },
   "file_extension": ".py",
   "mimetype": "text/x-python",
   "name": "python",
   "nbconvert_exporter": "python",
   "pygments_lexer": "ipython3",
   "version": "3.8.5"
  }
 },
 "nbformat": 4,
 "nbformat_minor": 1
}