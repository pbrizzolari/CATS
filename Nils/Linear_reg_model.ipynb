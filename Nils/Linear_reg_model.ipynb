{
 "cells": [
  {
   "cell_type": "code",
   "execution_count": 4,
   "metadata": {
    "collapsed": true
   },
   "outputs": [],
   "source": [
    "from sklearn.metrics import accuracy_score\n",
    "import pandas as pd\n",
    "import numpy as np\n",
    "from sklearn import preprocessing\n",
    "from sklearn import linear_model\n",
    "from sklearn import decomposition\n",
    "from matplotlib import pyplot as plt\n",
    "from sklearn import neighbors\n",
    "\n",
    "from double_CV_builder import DCV"
   ]
  },
  {
   "cell_type": "code",
   "execution_count": 5,
   "metadata": {
    "pycharm": {
     "name": "#%%\n"
    }
   },
   "outputs": [
    {
     "name": "stdout",
     "output_type": "stream",
     "text": [
      "LogisticRegression(max_iter=10000, multi_class='ovr', solver='liblinear')\n",
      "dict_keys(['C', 'class_weight', 'dual', 'fit_intercept', 'intercept_scaling', 'l1_ratio', 'max_iter', 'multi_class', 'n_jobs', 'penalty', 'random_state', 'solver', 'tol', 'verbose', 'warm_start'])\n",
      "{'C': []}\n",
      "<class 'pandas.core.frame.DataFrame'>\n",
      "(99, 1352)\n",
      "0.45 {'C': 10} LogisticRegression(C=10, max_iter=10000, multi_class='ovr', solver='liblinear')\n",
      "0.55 {'C': 10} LogisticRegression(C=10, max_iter=10000, multi_class='ovr', solver='liblinear')\n",
      "0.6 {'C': 0.1} LogisticRegression(C=0.1, max_iter=10000, multi_class='ovr', solver='liblinear')\n",
      "0.55 {'C': 10} LogisticRegression(C=10, max_iter=10000, multi_class='ovr', solver='liblinear')\n",
      "0.4 {'C': 0.1} LogisticRegression(C=0.1, max_iter=10000, multi_class='ovr', solver='liblinear')\n",
      "0.45 {'C': 10} LogisticRegression(C=10, max_iter=10000, multi_class='ovr', solver='liblinear')\n",
      "0.55 {'C': 10} LogisticRegression(C=10, max_iter=10000, multi_class='ovr', solver='liblinear')\n",
      "0.6 {'C': 0.1} LogisticRegression(C=0.1, max_iter=10000, multi_class='ovr', solver='liblinear')\n",
      "0.55 {'C': 10} LogisticRegression(C=10, max_iter=10000, multi_class='ovr', solver='liblinear')\n",
      "0.4 {'C': 0.1} LogisticRegression(C=0.1, max_iter=10000, multi_class='ovr', solver='liblinear')\n",
      "0.45 {'C': 10} LogisticRegression(C=10, max_iter=10000, multi_class='ovr', solver='liblinear')\n",
      "0.55 {'C': 10} LogisticRegression(C=10, max_iter=10000, multi_class='ovr', solver='liblinear')\n",
      "0.6 {'C': 0.1} LogisticRegression(C=0.1, max_iter=10000, multi_class='ovr', solver='liblinear')\n",
      "0.55 {'C': 10} LogisticRegression(C=10, max_iter=10000, multi_class='ovr', solver='liblinear')\n",
      "0.4 {'C': 0.1} LogisticRegression(C=0.1, max_iter=10000, multi_class='ovr', solver='liblinear')\n",
      "0.45 {'C': 10} LogisticRegression(C=10, max_iter=10000, multi_class='ovr', solver='liblinear')\n",
      "0.55 {'C': 10} LogisticRegression(C=10, max_iter=10000, multi_class='ovr', solver='liblinear')\n",
      "0.6 {'C': 0.1} LogisticRegression(C=0.1, max_iter=10000, multi_class='ovr', solver='liblinear')\n",
      "0.55 {'C': 10} LogisticRegression(C=10, max_iter=10000, multi_class='ovr', solver='liblinear')\n",
      "0.4 {'C': 0.1} LogisticRegression(C=0.1, max_iter=10000, multi_class='ovr', solver='liblinear')\n",
      "0.45 {'C': 10} LogisticRegression(C=10, max_iter=10000, multi_class='ovr', solver='liblinear')\n",
      "0.55 {'C': 10} LogisticRegression(C=10, max_iter=10000, multi_class='ovr', solver='liblinear')\n",
      "0.6 {'C': 0.1} LogisticRegression(C=0.1, max_iter=10000, multi_class='ovr', solver='liblinear')\n",
      "0.55 {'C': 10} LogisticRegression(C=10, max_iter=10000, multi_class='ovr', solver='liblinear')\n",
      "0.4 {'C': 0.1} LogisticRegression(C=0.1, max_iter=10000, multi_class='ovr', solver='liblinear')\n",
      "0.45 {'C': 10} LogisticRegression(C=10, max_iter=10000, multi_class='ovr', solver='liblinear')\n",
      "0.55 {'C': 10} LogisticRegression(C=10, max_iter=10000, multi_class='ovr', solver='liblinear')\n",
      "0.6 {'C': 0.1} LogisticRegression(C=0.1, max_iter=10000, multi_class='ovr', solver='liblinear')\n",
      "0.55 {'C': 10} LogisticRegression(C=10, max_iter=10000, multi_class='ovr', solver='liblinear')\n",
      "0.4 {'C': 0.1} LogisticRegression(C=0.1, max_iter=10000, multi_class='ovr', solver='liblinear')\n",
      "0.45 {'C': 10} LogisticRegression(C=10, max_iter=10000, multi_class='ovr', solver='liblinear')\n",
      "0.55 {'C': 10} LogisticRegression(C=10, max_iter=10000, multi_class='ovr', solver='liblinear')\n",
      "0.6 {'C': 0.1} LogisticRegression(C=0.1, max_iter=10000, multi_class='ovr', solver='liblinear')\n",
      "0.55 {'C': 10} LogisticRegression(C=10, max_iter=10000, multi_class='ovr', solver='liblinear')\n",
      "0.4 {'C': 0.1} LogisticRegression(C=0.1, max_iter=10000, multi_class='ovr', solver='liblinear')\n",
      "0.45 {'C': 10} LogisticRegression(C=10, max_iter=10000, multi_class='ovr', solver='liblinear')\n",
      "0.55 {'C': 10} LogisticRegression(C=10, max_iter=10000, multi_class='ovr', solver='liblinear')\n",
      "0.6 {'C': 0.1} LogisticRegression(C=0.1, max_iter=10000, multi_class='ovr', solver='liblinear')\n",
      "0.55 {'C': 10} LogisticRegression(C=10, max_iter=10000, multi_class='ovr', solver='liblinear')\n",
      "0.4 {'C': 0.1} LogisticRegression(C=0.1, max_iter=10000, multi_class='ovr', solver='liblinear')\n",
      "0.45 {'C': 10} LogisticRegression(C=10, max_iter=10000, multi_class='ovr', solver='liblinear')\n",
      "0.55 {'C': 10} LogisticRegression(C=10, max_iter=10000, multi_class='ovr', solver='liblinear')\n",
      "0.6 {'C': 0.1} LogisticRegression(C=0.1, max_iter=10000, multi_class='ovr', solver='liblinear')\n",
      "0.55 {'C': 10} LogisticRegression(C=10, max_iter=10000, multi_class='ovr', solver='liblinear')\n",
      "0.4 {'C': 0.1} LogisticRegression(C=0.1, max_iter=10000, multi_class='ovr', solver='liblinear')\n",
      "0.45 {'C': 10} LogisticRegression(C=10, max_iter=10000, multi_class='ovr', solver='liblinear')\n",
      "0.55 {'C': 10} LogisticRegression(C=10, max_iter=10000, multi_class='ovr', solver='liblinear')\n",
      "0.6 {'C': 0.1} LogisticRegression(C=0.1, max_iter=10000, multi_class='ovr', solver='liblinear')\n",
      "0.55 {'C': 10} LogisticRegression(C=10, max_iter=10000, multi_class='ovr', solver='liblinear')\n",
      "0.4 {'C': 0.1} LogisticRegression(C=0.1, max_iter=10000, multi_class='ovr', solver='liblinear')\n",
      "model with parmas: {'C': 0.1}\n",
      "<class 'pandas.core.frame.DataFrame'>\n",
      "(99, 1352)\n",
      "0.8383838383838383\n",
      "                  Start          End  Nclone\n",
      "Chromosome                                  \n",
      "1           149369522.0  149394958.0     5.0\n",
      "3           196908262.0  196937230.0     6.0\n",
      "5            60285997.0   62401952.0   135.0\n",
      "5            62457701.0   65999278.0   299.0\n",
      "5            66011537.0   68773114.0   198.0\n",
      "...                 ...          ...     ...\n",
      "8            41279137.0   41562453.0    25.0\n",
      "8            41575958.0   42118548.0    55.0\n",
      "8            42123757.0   42175380.0     9.0\n",
      "8            42191493.0   42325689.0    15.0\n",
      "8            42333867.0   42484474.0    24.0\n",
      "\n",
      "[150 rows x 3 columns]\n"
     ]
    }
   ],
   "source": [
    "    # imports the data\n",
    "data = pd.read_csv(\"../raw_data/train_call.txt\", index_col=0, delimiter=\"\\t\").transpose()\n",
    "topInfo = data.iloc[:3]\n",
    "data = data.iloc[4:].dropna(axis=1)\n",
    "classes = pd.read_csv(\"../raw_data/train_clinical.txt\", delimiter=\"\\t\", index_col=0)\n",
    "data = classes.join(data).set_index(\"Subgroup\").dropna()\n",
    "# Add 1 to data because of chi-square feature selection\n",
    "\n",
    "\n",
    "\n",
    "\n",
    "model = linear_model.LogisticRegression(penalty=\"l2\", max_iter=10000, multi_class='ovr', solver='liblinear')\n",
    "modeller = DCV(model)\n",
    "# prints all the params you can change :)\n",
    "print(model.get_params().keys())\n",
    "# select which params you want to test with the inner loop\n",
    "# space is the paramater space\n",
    "modeller.space['C'] = [100, 10, 1.0, 0.1, 0.01]\n",
    "# this does everything for you :)\n",
    "# first is the data used, seconds comes the classifications and than with loop the amount of loops you want to do\n",
    "modeller.train_fit(data, data.index, loop=10)\n",
    "# some test code\n",
    "print(accuracy_score(DCV.__class_cleaner__(None, data.index),modeller.predict(data)))\n",
    "print(topInfo.transpose().iloc[:-1].loc[modeller.get_best_features()])"
   ]
  }
 ],
 "metadata": {
  "kernelspec": {
   "display_name": "Python 3",
   "language": "python",
   "name": "python3"
  },
  "language_info": {
   "codemirror_mode": {
    "name": "ipython",
    "version": 3
   },
   "file_extension": ".py",
   "mimetype": "text/x-python",
   "name": "python",
   "nbconvert_exporter": "python",
   "pygments_lexer": "ipython3",
   "version": "3.8.5"
  }
 },
 "nbformat": 4,
 "nbformat_minor": 1
}