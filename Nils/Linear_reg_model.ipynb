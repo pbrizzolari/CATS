{
 "cells": [
  {
   "cell_type": "code",
   "execution_count": 1,
   "metadata": {},
   "outputs": [],
   "source": [
    "from sklearn.metrics import accuracy_score, confusion_matrix, ConfusionMatrixDisplay\n",
    "import pandas as pd\n",
    "import numpy as np\n",
    "from sklearn import preprocessing\n",
    "from sklearn import linear_model\n",
    "from sklearn import decomposition\n",
    "from matplotlib import pyplot as plt\n",
    "from sklearn import neighbors\n",
    "\n",
    "from double_CV_builder import DCV"
   ]
  },
  {
   "cell_type": "code",
   "execution_count": 2,
   "metadata": {
    "pycharm": {
     "name": "#%%\n"
    }
   },
   "outputs": [
    {
     "name": "stdout",
     "output_type": "stream",
     "text": [
      "dict_keys(['C', 'class_weight', 'dual', 'fit_intercept', 'intercept_scaling', 'l1_ratio', 'max_iter', 'multi_class', 'n_jobs', 'penalty', 'random_state', 'solver', 'tol', 'verbose', 'warm_start'])\n"
     ]
    }
   ],
   "source": [
    "# imports the data\n",
    "data = pd.read_csv(\"../raw_data/train_call.txt\", index_col=0, delimiter=\"\\t\").transpose()\n",
    "topInfo = data.iloc[:3]\n",
    "data = data.iloc[4:].dropna(axis=1)\n",
    "classes = pd.read_csv(\"../raw_data/train_clinical.txt\", delimiter=\"\\t\", index_col=0)\n",
    "data = classes.join(data).set_index(\"Subgroup\").dropna()\n",
    "# Add 1 to data because of chi-square feature selection\n",
    "\n",
    "\n",
    "DCV.outer_repeats = 5\n",
    "DCV.inner_repeats = 10\n",
    "DCV.num_features = 150\n",
    "\n",
    "model = linear_model.LogisticRegression(penalty=\"elasticnet\", max_iter=10000, multi_class='ovr', solver='saga')\n",
    "modeller = DCV(model)\n",
    "# prints all the params you can change :)\n",
    "print(model.get_params().keys())\n",
    "# select which params you want to test with the inner loop\n",
    "# space is the paramater space\n",
    "modeller.hyperParams['C'] = [100, 10, 1.0, 0.1, 0.01]\n",
    "modeller.hyperParams['l1_ratio'] = [0.1, 0.3, 0.5, 0.7, 0.9]\n",
    "\n"
   ]
  },
  {
   "cell_type": "code",
   "execution_count": 3,
   "metadata": {
    "pycharm": {
     "name": "#%%\n"
    }
   },
   "outputs": [
    {
     "name": "stdout",
     "output_type": "stream",
     "text": [
      "Training progress: [--------------------------------------------------] 0.0% \n",
      "Training progress: [##########----------------------------------------] 20.0% \n",
      "Training progress: [####################------------------------------] 40.0% \n",
      "Training progress: [##############################--------------------] 60.0% \n",
      "Training progress: [########################################----------] 80.0% \n",
      "Training progress: [##################################################] 100.0% Done...\r\n",
      "\n",
      "dict_values([0.1, 0.1])\n",
      "[ 192  470  486  671  672  673  674  679  686  687  689  690  691  692\n",
      "  693  694  695  696  697  698  699  700  701  702  818  837  839  840\n",
      "  842  843  844  846  848  849  850  851  852  853  854  855  857  861\n",
      "  998  999 1000 1001 1002 1003 1004 1008 1015 1016 1022 1025 1026 1027\n",
      " 1028 1031 1032 1033 1034 1035 1036 1087 1089 1090 1091 1092 1563 1567\n",
      " 1642 1643 1655 1656 1657 1663 1664 1670 1672 1673 1674 1675 1676 1677\n",
      " 1678 1679 1895 1906 1907 1909 1910 1911 2004 2017 2019 2020 2021 2022\n",
      " 2023 2024 2026 2027 2030 2032 2039 2040 2044 2045 2049 2056 2065 2068\n",
      " 2076 2077 2078 2079 2081 2104 2109 2110 2111 2112 2113 2123 2124 2125\n",
      " 2126 2184 2206 2207 2208 2209 2210 2211 2212 2213 2214 2218 2219 2220\n",
      " 2221 2223 2224 2225 2227 2379 2380 2382 2723 2742]\n",
      "0.9696969696969697\n"
     ]
    }
   ],
   "source": [
    "# this does everything for you :)\n",
    "# first is the data used, seconds comes the classifications and than with loop the amount of loops you want to do\n",
    "\n",
    "modeller.train_fit(data=data, classes=data.index, loop=1)\n",
    "# some test code\n",
    "\n",
    "print(accuracy_score(DCV.__class_cleaner__(None, data.index),modeller.predict(data)))"
   ]
  },
  {
   "cell_type": "code",
   "execution_count": 5,
   "metadata": {
    "pycharm": {
     "name": "#%%\n"
    }
   },
   "outputs": [
    {
     "name": "stdout",
     "output_type": "stream",
     "text": [
      "                Start        End  Nclone\n",
      "Chromosome                              \n",
      "1           149369522  149394958       5\n",
      "3           164038925  164101784       6\n",
      "3           196908262  196937230       6\n",
      "5            68785515   68850823       9\n",
      "5            69274433   70345552       5\n",
      "...               ...        ...     ...\n",
      "17           77442683   77478901       2\n",
      "17           77503378   77503685       3\n",
      "17           77653668   77696106       6\n",
      "22           22725750   22731544       2\n",
      "22           37683612   37705310       5\n",
      "\n",
      "[150 rows x 3 columns]\n"
     ]
    }
   ],
   "source": [
    "print(topInfo.transpose().iloc[modeller.get_best_features()[0]])"
   ]
  },
  {
   "cell_type": "code",
   "execution_count": null,
   "metadata": {
    "pycharm": {
     "name": "#%%\n"
    }
   },
   "outputs": [],
   "source": [
    "modeller.all_accuracies"
   ]
  },
  {
   "cell_type": "code",
   "execution_count": null,
   "metadata": {
    "pycharm": {
     "name": "#%%\n"
    }
   },
   "outputs": [],
   "source": [
    "modeller.all_accuracies.reset_index().pivot_table(index=\"l1_ratio\",columns=\"C\", aggfunc=\"mean\")[\"Value\"]"
   ]
  },
  {
   "cell_type": "code",
   "execution_count": null,
   "metadata": {
    "pycharm": {
     "name": "#%%\n"
    }
   },
   "outputs": [],
   "source": [
    "cm = confusion_matrix(data.index, modeller.predict(data))\n",
    "disp = ConfusionMatrixDisplay(confusion_matrix=cm,\n",
    "                             display_labels=modeller.get_best_model().classes_)\n",
    "disp.plot()"
   ]
  },
  {
   "cell_type": "code",
   "execution_count": null,
   "metadata": {
    "pycharm": {
     "name": "#%%\n"
    }
   },
   "outputs": [],
   "source": [
    "import scipy.stats as stats\n",
    "\n",
    "stats.wilcoxon(modeller.predict(data), data.index)"
   ]
  },
  {
   "cell_type": "code",
   "execution_count": null,
   "metadata": {
    "pycharm": {
     "name": "#%%\n"
    }
   },
   "outputs": [],
   "source": [
    "print(modeller.get_best_features())\n"
   ]
  },
  {
   "cell_type": "code",
   "execution_count": null,
   "metadata": {
    "pycharm": {
     "name": "#%%\n"
    }
   },
   "outputs": [],
   "source": []
  },
  {
   "cell_type": "markdown",
   "metadata": {},
   "source": [
    "#todo\n",
    "box plots accuracy, precision, recall\n",
    "best model. and params features\n",
    "\n",
    "save all the juicy info (params, and features)"
   ]
  },
  {
   "cell_type": "code",
   "execution_count": null,
   "metadata": {
    "pycharm": {
     "name": "#%%\n"
    }
   },
   "outputs": [],
   "source": [
    "print(model.__callable__(\"predict_proba\")==True)"
   ]
  }
 ],
 "metadata": {
  "kernelspec": {
   "display_name": "Python 3",
   "language": "python",
   "name": "python3"
  },
  "language_info": {
   "codemirror_mode": {
    "name": "ipython",
    "version": 3
   },
   "file_extension": ".py",
   "mimetype": "text/x-python",
   "name": "python",
   "nbconvert_exporter": "python",
   "pygments_lexer": "ipython3",
   "version": "3.8.5"
  }
 },
 "nbformat": 4,
 "nbformat_minor": 1
}