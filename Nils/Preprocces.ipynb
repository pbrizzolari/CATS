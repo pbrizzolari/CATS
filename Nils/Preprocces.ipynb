{
 "cells": [
  {
   "cell_type": "code",
   "execution_count": 12,
   "metadata": {
    "collapsed": true
   },
   "outputs": [],
   "source": [
    "#load in the used packages\n",
    "import pandas as pd\n",
    "import numpy as np\n",
    "import requests, sys\n",
    "from collections import Counter"
   ]
  },
  {
   "cell_type": "code",
   "execution_count": 13,
   "outputs": [],
   "source": [
    "# load the needed databases or donload them\n",
    "kegg_server = \"http://rest.kegg.jp/\"\n",
    "kegg_protein_list = \"list/hsa\"\n",
    "\n",
    "kegg_request = requests.get(kegg_server +kegg_protein_list)\n",
    "if not kegg_request.ok:\n",
    "    kegg_request.raise_for_status()\n",
    "    sys.exit()\n",
    "ensmbl_to_kegg = pd.DataFrame([x.split(\"\\t\") for x in kegg_request.text.split(\"\\n\")], columns=[\"ID\",\"names\"])\n",
    "ensmbl_to_kegg = ensmbl_to_kegg.set_index(\"ID\").dropna()\n",
    "ensmbl_to_kegg = ensmbl_to_kegg.names.apply(lambda x: x.split(\"; \")[0])\n",
    "ensmbl_to_kegg = ensmbl_to_kegg.apply(lambda x: x.split(\", \"))\n",
    "\n",
    "\n",
    "kegg_server = \"http://rest.kegg.jp/\"\n",
    "kegg_protein_pathway = \"/link/hsa/pathway\"\n",
    "\n",
    "pathway_request = requests.get(kegg_server +kegg_protein_pathway)\n",
    "if not pathway_request.ok:\n",
    "    pathway_request.raise_for_status()\n",
    "    sys.exit()\n",
    "path_df = pd.DataFrame([x.split(\"\\t\") for x in pathway_request.text.split(\"\\n\")], columns=[\"pathway\", \"gene_id\"])\n"
   ],
   "metadata": {
    "collapsed": false,
    "pycharm": {
     "name": "#%%\n"
    }
   }
  },
  {
   "cell_type": "code",
   "execution_count": 14,
   "outputs": [],
   "source": [
    "#Function to retrieve the pathways for each part of the a chromosome.\n",
    "col_names = ['end', 'biotype', 'strand', 'feature_type', 'id', 'version', 'seq_region_name', 'start',\n",
    "             'logic_name', 'assembly_name', 'description', 'gene_id', 'source', 'external_name']\n",
    "def get_pathways(Ch,start,end):\n",
    "    kegg_id = []\n",
    "    server = \"https://rest.ensembl.org\"\n",
    "    ext = \"/overlap/region/human/{0}:{1}-{2}?feature=gene;biotype=protein_coding;a=ncbi36\".format(Ch, start,end)\n",
    "    r = requests.get(server +ext, headers={ \"Content-Type\" : \"application/json\"})\n",
    "    if not r.ok:\n",
    "        print(f\"Error at CH {Ch} from {start} till {end}\")\n",
    "        return []\n",
    "    #print(pd.DataFrame(r.json()))\n",
    "    genes = pd.DataFrame(r.json(), columns=col_names).external_name\n",
    "    for id in list(genes):\n",
    "        kegg_id += list(ensmbl_to_kegg[ensmbl_to_kegg.map(set([id]).issubset)].index)\n",
    "    data = path_df[path_df.gene_id.apply(lambda x: x in kegg_id)].pathway.tolist()\n",
    "    return data"
   ],
   "metadata": {
    "collapsed": false,
    "pycharm": {
     "name": "#%%\n"
    }
   }
  },
  {
   "cell_type": "code",
   "execution_count": 15,
   "outputs": [],
   "source": [
    "#load the data:\n",
    "data = pd.read_csv(\"train_call.txt\",sep=\"\\t\")\n",
    "classes = pd.read_csv(\"train_clinical.txt\", sep=\"\\t\", index_col=0)\n"
   ],
   "metadata": {
    "collapsed": false,
    "pycharm": {
     "name": "#%%\n"
    }
   }
  },
  {
   "cell_type": "code",
   "execution_count": 16,
   "outputs": [],
   "source": [
    "# get chomosoon info\n",
    "topInfo = data.transpose()[:4]\n",
    "topInfo = topInfo.astype(int)\n",
    "topInfo = topInfo.transpose()\n"
   ],
   "metadata": {
    "collapsed": false,
    "pycharm": {
     "name": "#%%\n"
    }
   }
  },
  {
   "cell_type": "code",
   "execution_count": 23,
   "outputs": [
    {
     "name": "stdout",
     "output_type": "stream",
     "text": [
      "Error at CH 2 from 242430070 till 242784096\n",
      "Error at CH 3 from 199333505 till 199383479\n",
      "Error at CH 4 from 190887518 till 191025356\n",
      "Error at CH 4 from 191037678 till 191046020\n",
      "Error at CH 4 from 191062719 till 191134340\n",
      "Error at CH 4 from 191144773 till 191165971\n",
      "Error at CH 4 from 191191940 till 191311992\n",
      "Error at CH 6 from 170856656 till 170943103\n",
      "Error at CH 8 from 145962567 till 146264846\n"
     ]
    }
   ],
   "source": [
    "pathway_cluster = pd.DataFrame(columns=path_df.pathway.unique()[:-1])\n",
    "max_seq_range = 5000000-1\n",
    "for i in topInfo.index:\n",
    "    full_data = []\n",
    "    dataPoint = topInfo.iloc[i]\n",
    "    #print(dataPoint[1],dataPoint[2] )\n",
    "    Ch = dataPoint[0]\n",
    "    seq_range = range(np.math.ceil((dataPoint[2] - dataPoint[1])// max_seq_range)+1)\n",
    "    for x in seq_range:\n",
    "        if x != seq_range[-1]:\n",
    "            start = dataPoint[1]+(max_seq_range*x)\n",
    "            end = dataPoint[1]+(max_seq_range*(x+1))\n",
    "        elif x == seq_range[-1]:\n",
    "            start = dataPoint[1]+(max_seq_range*x)\n",
    "            end = dataPoint[1]+(max_seq_range*(x))+(dataPoint[2] - dataPoint[1])% max_seq_range\n",
    "        data_test = get_pathways(Ch, start, end)\n",
    "        #print(len(data_test), len(full_data))\n",
    "        full_data+=data_test\n",
    "\n",
    "    pathway_cluster = pathway_cluster.append(Counter(full_data), ignore_index=True)\n",
    "    #print(pathway_cluster)"
   ],
   "metadata": {
    "collapsed": false,
    "pycharm": {
     "name": "#%%\n"
    }
   }
  },
  {
   "cell_type": "code",
   "execution_count": 116,
   "outputs": [],
   "source": [
    "#dotprosuct the data to retrieve the sumdata per\n",
    "pathway_data = pathway_cluster.iloc[:-1].fillna(0).transpose() @ data.dropna().iloc[:,4:].to_numpy()\n",
    "final_data = pd.concat([classes.reset_index().Subgroup, pathway_data.transpose()], ignore_index=True, axis=1)\n",
    "final_data.columns = pathway_cluster.columns.insert(0,\"Subgroup\")\n",
    "final_data= final_data.set_index(\"Subgroup\")"
   ],
   "metadata": {
    "collapsed": false,
    "pycharm": {
     "name": "#%%\n"
    }
   }
  },
  {
   "cell_type": "code",
   "execution_count": 121,
   "outputs": [
    {
     "data": {
      "text/plain": "            path:hsa00010  path:hsa00020  path:hsa00030  path:hsa00040  \\\nSubgroup                                                                 \nHER2+           -0.031250       0.531250      -0.656250      -0.656250   \nHR+              1.305556       1.305556      -0.611111      -0.694444   \nTriple Neg       0.968750       1.656250      -0.343750       0.531250   \n\n            path:hsa00051  path:hsa00052  path:hsa00053  path:hsa00061  \\\nSubgroup                                                                 \nHER2+            2.031250       0.125000      -1.562500      -1.156250   \nHR+              1.388889       0.138889      -1.194444      -0.333333   \nTriple Neg       2.750000       2.406250      -0.781250      -0.906250   \n\n            path:hsa00062  path:hsa00071  ...  path:hsa05330  path:hsa05332  \\\nSubgroup                                  ...                                 \nHER2+            0.375000      -2.156250  ...      -0.312500       0.250000   \nHR+              0.416667      -0.638889  ...       0.305556      -0.361111   \nTriple Neg       2.312500      -1.468750  ...       4.718750       5.687500   \n\n            path:hsa05340  path:hsa05410  path:hsa05412  path:hsa05414  \\\nSubgroup                                                                 \nHER2+            2.437500       4.906250       1.500000       4.750000   \nHR+              2.138889       6.222222       2.305556       5.166667   \nTriple Neg       4.000000       7.750000       3.906250       6.968750   \n\n            path:hsa05415  path:hsa05416  path:hsa05417  path:hsa05418  \nSubgroup                                                                \nHER2+            5.593750      -0.156250       1.406250          2.625  \nHR+              9.055556      -0.805556       2.388889          3.750  \nTriple Neg      10.593750       4.437500       9.250000         10.125  \n\n[3 rows x 343 columns]",
      "text/html": "<div>\n<style scoped>\n    .dataframe tbody tr th:only-of-type {\n        vertical-align: middle;\n    }\n\n    .dataframe tbody tr th {\n        vertical-align: top;\n    }\n\n    .dataframe thead th {\n        text-align: right;\n    }\n</style>\n<table border=\"1\" class=\"dataframe\">\n  <thead>\n    <tr style=\"text-align: right;\">\n      <th></th>\n      <th>path:hsa00010</th>\n      <th>path:hsa00020</th>\n      <th>path:hsa00030</th>\n      <th>path:hsa00040</th>\n      <th>path:hsa00051</th>\n      <th>path:hsa00052</th>\n      <th>path:hsa00053</th>\n      <th>path:hsa00061</th>\n      <th>path:hsa00062</th>\n      <th>path:hsa00071</th>\n      <th>...</th>\n      <th>path:hsa05330</th>\n      <th>path:hsa05332</th>\n      <th>path:hsa05340</th>\n      <th>path:hsa05410</th>\n      <th>path:hsa05412</th>\n      <th>path:hsa05414</th>\n      <th>path:hsa05415</th>\n      <th>path:hsa05416</th>\n      <th>path:hsa05417</th>\n      <th>path:hsa05418</th>\n    </tr>\n    <tr>\n      <th>Subgroup</th>\n      <th></th>\n      <th></th>\n      <th></th>\n      <th></th>\n      <th></th>\n      <th></th>\n      <th></th>\n      <th></th>\n      <th></th>\n      <th></th>\n      <th></th>\n      <th></th>\n      <th></th>\n      <th></th>\n      <th></th>\n      <th></th>\n      <th></th>\n      <th></th>\n      <th></th>\n      <th></th>\n      <th></th>\n    </tr>\n  </thead>\n  <tbody>\n    <tr>\n      <th>HER2+</th>\n      <td>-0.031250</td>\n      <td>0.531250</td>\n      <td>-0.656250</td>\n      <td>-0.656250</td>\n      <td>2.031250</td>\n      <td>0.125000</td>\n      <td>-1.562500</td>\n      <td>-1.156250</td>\n      <td>0.375000</td>\n      <td>-2.156250</td>\n      <td>...</td>\n      <td>-0.312500</td>\n      <td>0.250000</td>\n      <td>2.437500</td>\n      <td>4.906250</td>\n      <td>1.500000</td>\n      <td>4.750000</td>\n      <td>5.593750</td>\n      <td>-0.156250</td>\n      <td>1.406250</td>\n      <td>2.625</td>\n    </tr>\n    <tr>\n      <th>HR+</th>\n      <td>1.305556</td>\n      <td>1.305556</td>\n      <td>-0.611111</td>\n      <td>-0.694444</td>\n      <td>1.388889</td>\n      <td>0.138889</td>\n      <td>-1.194444</td>\n      <td>-0.333333</td>\n      <td>0.416667</td>\n      <td>-0.638889</td>\n      <td>...</td>\n      <td>0.305556</td>\n      <td>-0.361111</td>\n      <td>2.138889</td>\n      <td>6.222222</td>\n      <td>2.305556</td>\n      <td>5.166667</td>\n      <td>9.055556</td>\n      <td>-0.805556</td>\n      <td>2.388889</td>\n      <td>3.750</td>\n    </tr>\n    <tr>\n      <th>Triple Neg</th>\n      <td>0.968750</td>\n      <td>1.656250</td>\n      <td>-0.343750</td>\n      <td>0.531250</td>\n      <td>2.750000</td>\n      <td>2.406250</td>\n      <td>-0.781250</td>\n      <td>-0.906250</td>\n      <td>2.312500</td>\n      <td>-1.468750</td>\n      <td>...</td>\n      <td>4.718750</td>\n      <td>5.687500</td>\n      <td>4.000000</td>\n      <td>7.750000</td>\n      <td>3.906250</td>\n      <td>6.968750</td>\n      <td>10.593750</td>\n      <td>4.437500</td>\n      <td>9.250000</td>\n      <td>10.125</td>\n    </tr>\n  </tbody>\n</table>\n<p>3 rows × 343 columns</p>\n</div>"
     },
     "execution_count": 121,
     "metadata": {},
     "output_type": "execute_result"
    }
   ],
   "source": [
    "final_data.groupby(\"Subgroup\").mean()"
   ],
   "metadata": {
    "collapsed": false,
    "pycharm": {
     "name": "#%%\n"
    }
   }
  }
 ],
 "metadata": {
  "kernelspec": {
   "name": "python3",
   "language": "python",
   "display_name": "Python 3"
  },
  "language_info": {
   "codemirror_mode": {
    "name": "ipython",
    "version": 2
   },
   "file_extension": ".py",
   "mimetype": "text/x-python",
   "name": "python",
   "nbconvert_exporter": "python",
   "pygments_lexer": "ipython2",
   "version": "2.7.6"
  }
 },
 "nbformat": 4,
 "nbformat_minor": 0
}