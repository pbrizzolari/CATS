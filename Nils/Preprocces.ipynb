{
 "cells": [
  {
   "cell_type": "code",
   "execution_count": 1,
   "metadata": {
    "collapsed": true
   },
   "outputs": [],
   "source": [
    "#load in the used packages\n",
    "import pandas as pd\n",
    "import numpy as np\n",
    "import requests, sys\n",
    "from collections import Counter"
   ]
  },
  {
   "cell_type": "code",
   "execution_count": 2,
   "outputs": [],
   "source": [
    "# load the needed databases or donload them\n",
    "kegg_server = \"http://rest.kegg.jp/\"\n",
    "kegg_protein_list = \"list/hsa\"\n",
    "\n",
    "kegg_request = requests.get(kegg_server +kegg_protein_list)\n",
    "if not kegg_request.ok:\n",
    "    kegg_request.raise_for_status()\n",
    "    sys.exit()\n",
    "ensmbl_to_kegg = pd.DataFrame([x.split(\"\\t\") for x in kegg_request.text.split(\"\\n\")], columns=[\"ID\",\"names\"])\n",
    "ensmbl_to_kegg = ensmbl_to_kegg.set_index(\"ID\").dropna()\n",
    "ensmbl_to_kegg = ensmbl_to_kegg.names.apply(lambda x: x.split(\"; \")[0])\n",
    "ensmbl_to_kegg = ensmbl_to_kegg.apply(lambda x: x.split(\", \"))\n",
    "\n",
    "\n",
    "kegg_server = \"http://rest.kegg.jp/\"\n",
    "kegg_protein_pathway = \"/link/hsa/pathway\"\n",
    "\n",
    "pathway_request = requests.get(kegg_server +kegg_protein_pathway)\n",
    "if not pathway_request.ok:\n",
    "    pathway_request.raise_for_status()\n",
    "    sys.exit()\n",
    "path_df = pd.DataFrame([x.split(\"\\t\") for x in pathway_request.text.split(\"\\n\")], columns=[\"pathway\", \"gene_id\"])\n"
   ],
   "metadata": {
    "collapsed": false,
    "pycharm": {
     "name": "#%%\n"
    }
   }
  },
  {
   "cell_type": "code",
   "execution_count": 3,
   "outputs": [],
   "source": [
    "#Function to retrieve the pathways for each part of the a chromosome.\n",
    "col_names = ['end', 'biotype', 'strand', 'feature_type', 'id', 'version', 'seq_region_name', 'start',\n",
    "             'logic_name', 'assembly_name', 'description', 'gene_id', 'source', 'external_name']\n",
    "def get_pathways(Ch,start,end):\n",
    "    kegg_id = []\n",
    "    server = \"https://rest.ensembl.org\"\n",
    "    ext = \"/overlap/region/human/{0}:{1}-{2}?feature=gene;biotype=protein_coding;a=ncbi36\".format(Ch, start,end)\n",
    "    r = requests.get(server +ext, headers={ \"Content-Type\" : \"application/json\"})\n",
    "    if not r.ok:\n",
    "        print(f\"Error at CH {Ch} from {start} till {end}\")\n",
    "        return []\n",
    "    #print(pd.DataFrame(r.json()))\n",
    "    genes = pd.DataFrame(r.json(), columns=col_names).external_name\n",
    "    for id in list(genes):\n",
    "        kegg_id += list(ensmbl_to_kegg[ensmbl_to_kegg.map(set([id]).issubset)].index)\n",
    "    data = path_df[path_df.gene_id.apply(lambda x: x in kegg_id)].pathway.tolist()\n",
    "    return data"
   ],
   "metadata": {
    "collapsed": false,
    "pycharm": {
     "name": "#%%\n"
    }
   }
  },
  {
   "cell_type": "code",
   "execution_count": 4,
   "outputs": [],
   "source": [],
   "metadata": {
    "collapsed": false,
    "pycharm": {
     "name": "#%%\n"
    }
   }
  },
  {
   "cell_type": "code",
   "execution_count": 227,
   "outputs": [
    {
     "data": {
      "text/plain": "       Sample    Subgroup\n0   Array.129       HER2+\n1    Array.34         HR+\n2    Array.67         HR+\n3    Array.24  Triple Neg\n4    Array.22  Triple Neg\n..        ...         ...\n95   Array.10       HER2+\n96  Array.123         HR+\n97  Array.100         HR+\n98  Array.134         HR+\n99  Array.130       HER2+\n\n[100 rows x 2 columns]",
      "text/html": "<div>\n<style scoped>\n    .dataframe tbody tr th:only-of-type {\n        vertical-align: middle;\n    }\n\n    .dataframe tbody tr th {\n        vertical-align: top;\n    }\n\n    .dataframe thead th {\n        text-align: right;\n    }\n</style>\n<table border=\"1\" class=\"dataframe\">\n  <thead>\n    <tr style=\"text-align: right;\">\n      <th></th>\n      <th>Sample</th>\n      <th>Subgroup</th>\n    </tr>\n  </thead>\n  <tbody>\n    <tr>\n      <th>0</th>\n      <td>Array.129</td>\n      <td>HER2+</td>\n    </tr>\n    <tr>\n      <th>1</th>\n      <td>Array.34</td>\n      <td>HR+</td>\n    </tr>\n    <tr>\n      <th>2</th>\n      <td>Array.67</td>\n      <td>HR+</td>\n    </tr>\n    <tr>\n      <th>3</th>\n      <td>Array.24</td>\n      <td>Triple Neg</td>\n    </tr>\n    <tr>\n      <th>4</th>\n      <td>Array.22</td>\n      <td>Triple Neg</td>\n    </tr>\n    <tr>\n      <th>...</th>\n      <td>...</td>\n      <td>...</td>\n    </tr>\n    <tr>\n      <th>95</th>\n      <td>Array.10</td>\n      <td>HER2+</td>\n    </tr>\n    <tr>\n      <th>96</th>\n      <td>Array.123</td>\n      <td>HR+</td>\n    </tr>\n    <tr>\n      <th>97</th>\n      <td>Array.100</td>\n      <td>HR+</td>\n    </tr>\n    <tr>\n      <th>98</th>\n      <td>Array.134</td>\n      <td>HR+</td>\n    </tr>\n    <tr>\n      <th>99</th>\n      <td>Array.130</td>\n      <td>HER2+</td>\n    </tr>\n  </tbody>\n</table>\n<p>100 rows × 2 columns</p>\n</div>"
     },
     "execution_count": 227,
     "metadata": {},
     "output_type": "execute_result"
    }
   ],
   "source": [
    "#load the data:\n",
    "data = pd.read_csv(sys.path[1]+\"/raw_data/train_call.txt\",sep=\"\\t\")\n",
    "classes = pd.read_csv(sys.path[1]+\"/raw_data/train_clinical.txt\", sep=\"\\t\")\n",
    "index = data.transpose().index[:4]\n",
    "classes"
   ],
   "metadata": {
    "collapsed": false,
    "pycharm": {
     "name": "#%%\n"
    }
   }
  },
  {
   "cell_type": "code",
   "execution_count": 228,
   "outputs": [
    {
     "data": {
      "text/plain": "               0         1         2         3         4          5     \\\nSample                                                                   \nChromosome      1.0       1.0       1.0       1.0       1.0        1.0   \nStart        2927.0   85022.0  370546.0  471671.0  792533.0   912799.0   \nEnd         43870.0  216735.0  372295.0  786483.0  907406.0  1266212.0   \nNclone          3.0       4.0       4.0       5.0      13.0       96.0   \nArray.129       0.0       0.0       0.0       0.0       0.0        0.0   \n...             ...       ...       ...       ...       ...        ...   \nArray.10        0.0       0.0       0.0       0.0       0.0        0.0   \nArray.123       0.0       0.0       0.0       0.0       0.0        0.0   \nArray.100       0.0       0.0       0.0       0.0       0.0        0.0   \nArray.134      -1.0      -1.0      -1.0      -1.0      -1.0       -1.0   \nArray.130       0.0       0.0       0.0       0.0       0.0        0.0   \n\n                 6          7          8          9     ...        1342  \\\nSample                                                  ...               \nChromosome        1.0        1.0        1.0        1.0  ...        10.0   \nStart       1271190.0  1676445.0  1738295.0  2481927.0  ...  58432737.0   \nEnd         1590570.0  1703748.0  2477597.0  2562342.0  ...  60103148.0   \nNclone           45.0        4.0      104.0       14.0  ...        84.0   \nArray.129         0.0        0.0        0.0        0.0  ...         0.0   \n...               ...        ...        ...        ...  ...         ...   \nArray.10          0.0        0.0        0.0        0.0  ...        -1.0   \nArray.123         0.0        0.0        0.0        0.0  ...         0.0   \nArray.100         0.0        0.0        0.0        0.0  ...         0.0   \nArray.134        -1.0       -1.0       -1.0       -1.0  ...        -1.0   \nArray.130         0.0        0.0        0.0        0.0  ...        -1.0   \n\n                  1343        1344        1345        1346        1347  \\\nSample                                                                   \nChromosome        10.0        10.0        10.0        10.0        10.0   \nStart       60125080.0  63282635.0  64146695.0  66018580.0  66455837.0   \nEnd         63239913.0  64126023.0  66004965.0  66423604.0  67974175.0   \nNclone           244.0        83.0       110.0        17.0       100.0   \nArray.129          0.0         0.0         0.0         0.0         0.0   \n...                ...         ...         ...         ...         ...   \nArray.10          -1.0        -1.0        -1.0        -1.0        -1.0   \nArray.123          0.0         0.0         0.0         0.0         0.0   \nArray.100          0.0         0.0         0.0         0.0         0.0   \nArray.134         -1.0        -1.0        -1.0        -1.0        -1.0   \nArray.130         -1.0        -1.0        -1.0        -1.0        -1.0   \n\n                  1348        1349        1350        1351  \nSample                                                      \nChromosome        10.0        10.0        10.0        10.0  \nStart       67988973.0  68119528.0  71007045.0  72351591.0  \nEnd         68108381.0  71002959.0  72336589.0  73557841.0  \nNclone            14.0       324.0       156.0       111.0  \nArray.129          0.0         0.0         0.0         0.0  \n...                ...         ...         ...         ...  \nArray.10          -1.0        -1.0        -1.0        -1.0  \nArray.123          0.0         0.0         0.0         0.0  \nArray.100          0.0         0.0         0.0         0.0  \nArray.134         -1.0        -1.0        -1.0        -1.0  \nArray.130         -1.0        -1.0        -1.0        -1.0  \n\n[104 rows x 1352 columns]",
      "text/html": "<div>\n<style scoped>\n    .dataframe tbody tr th:only-of-type {\n        vertical-align: middle;\n    }\n\n    .dataframe tbody tr th {\n        vertical-align: top;\n    }\n\n    .dataframe thead th {\n        text-align: right;\n    }\n</style>\n<table border=\"1\" class=\"dataframe\">\n  <thead>\n    <tr style=\"text-align: right;\">\n      <th></th>\n      <th>0</th>\n      <th>1</th>\n      <th>2</th>\n      <th>3</th>\n      <th>4</th>\n      <th>5</th>\n      <th>6</th>\n      <th>7</th>\n      <th>8</th>\n      <th>9</th>\n      <th>...</th>\n      <th>1342</th>\n      <th>1343</th>\n      <th>1344</th>\n      <th>1345</th>\n      <th>1346</th>\n      <th>1347</th>\n      <th>1348</th>\n      <th>1349</th>\n      <th>1350</th>\n      <th>1351</th>\n    </tr>\n    <tr>\n      <th>Sample</th>\n      <th></th>\n      <th></th>\n      <th></th>\n      <th></th>\n      <th></th>\n      <th></th>\n      <th></th>\n      <th></th>\n      <th></th>\n      <th></th>\n      <th></th>\n      <th></th>\n      <th></th>\n      <th></th>\n      <th></th>\n      <th></th>\n      <th></th>\n      <th></th>\n      <th></th>\n      <th></th>\n      <th></th>\n    </tr>\n  </thead>\n  <tbody>\n    <tr>\n      <th>Chromosome</th>\n      <td>1.0</td>\n      <td>1.0</td>\n      <td>1.0</td>\n      <td>1.0</td>\n      <td>1.0</td>\n      <td>1.0</td>\n      <td>1.0</td>\n      <td>1.0</td>\n      <td>1.0</td>\n      <td>1.0</td>\n      <td>...</td>\n      <td>10.0</td>\n      <td>10.0</td>\n      <td>10.0</td>\n      <td>10.0</td>\n      <td>10.0</td>\n      <td>10.0</td>\n      <td>10.0</td>\n      <td>10.0</td>\n      <td>10.0</td>\n      <td>10.0</td>\n    </tr>\n    <tr>\n      <th>Start</th>\n      <td>2927.0</td>\n      <td>85022.0</td>\n      <td>370546.0</td>\n      <td>471671.0</td>\n      <td>792533.0</td>\n      <td>912799.0</td>\n      <td>1271190.0</td>\n      <td>1676445.0</td>\n      <td>1738295.0</td>\n      <td>2481927.0</td>\n      <td>...</td>\n      <td>58432737.0</td>\n      <td>60125080.0</td>\n      <td>63282635.0</td>\n      <td>64146695.0</td>\n      <td>66018580.0</td>\n      <td>66455837.0</td>\n      <td>67988973.0</td>\n      <td>68119528.0</td>\n      <td>71007045.0</td>\n      <td>72351591.0</td>\n    </tr>\n    <tr>\n      <th>End</th>\n      <td>43870.0</td>\n      <td>216735.0</td>\n      <td>372295.0</td>\n      <td>786483.0</td>\n      <td>907406.0</td>\n      <td>1266212.0</td>\n      <td>1590570.0</td>\n      <td>1703748.0</td>\n      <td>2477597.0</td>\n      <td>2562342.0</td>\n      <td>...</td>\n      <td>60103148.0</td>\n      <td>63239913.0</td>\n      <td>64126023.0</td>\n      <td>66004965.0</td>\n      <td>66423604.0</td>\n      <td>67974175.0</td>\n      <td>68108381.0</td>\n      <td>71002959.0</td>\n      <td>72336589.0</td>\n      <td>73557841.0</td>\n    </tr>\n    <tr>\n      <th>Nclone</th>\n      <td>3.0</td>\n      <td>4.0</td>\n      <td>4.0</td>\n      <td>5.0</td>\n      <td>13.0</td>\n      <td>96.0</td>\n      <td>45.0</td>\n      <td>4.0</td>\n      <td>104.0</td>\n      <td>14.0</td>\n      <td>...</td>\n      <td>84.0</td>\n      <td>244.0</td>\n      <td>83.0</td>\n      <td>110.0</td>\n      <td>17.0</td>\n      <td>100.0</td>\n      <td>14.0</td>\n      <td>324.0</td>\n      <td>156.0</td>\n      <td>111.0</td>\n    </tr>\n    <tr>\n      <th>Array.129</th>\n      <td>0.0</td>\n      <td>0.0</td>\n      <td>0.0</td>\n      <td>0.0</td>\n      <td>0.0</td>\n      <td>0.0</td>\n      <td>0.0</td>\n      <td>0.0</td>\n      <td>0.0</td>\n      <td>0.0</td>\n      <td>...</td>\n      <td>0.0</td>\n      <td>0.0</td>\n      <td>0.0</td>\n      <td>0.0</td>\n      <td>0.0</td>\n      <td>0.0</td>\n      <td>0.0</td>\n      <td>0.0</td>\n      <td>0.0</td>\n      <td>0.0</td>\n    </tr>\n    <tr>\n      <th>...</th>\n      <td>...</td>\n      <td>...</td>\n      <td>...</td>\n      <td>...</td>\n      <td>...</td>\n      <td>...</td>\n      <td>...</td>\n      <td>...</td>\n      <td>...</td>\n      <td>...</td>\n      <td>...</td>\n      <td>...</td>\n      <td>...</td>\n      <td>...</td>\n      <td>...</td>\n      <td>...</td>\n      <td>...</td>\n      <td>...</td>\n      <td>...</td>\n      <td>...</td>\n      <td>...</td>\n    </tr>\n    <tr>\n      <th>Array.10</th>\n      <td>0.0</td>\n      <td>0.0</td>\n      <td>0.0</td>\n      <td>0.0</td>\n      <td>0.0</td>\n      <td>0.0</td>\n      <td>0.0</td>\n      <td>0.0</td>\n      <td>0.0</td>\n      <td>0.0</td>\n      <td>...</td>\n      <td>-1.0</td>\n      <td>-1.0</td>\n      <td>-1.0</td>\n      <td>-1.0</td>\n      <td>-1.0</td>\n      <td>-1.0</td>\n      <td>-1.0</td>\n      <td>-1.0</td>\n      <td>-1.0</td>\n      <td>-1.0</td>\n    </tr>\n    <tr>\n      <th>Array.123</th>\n      <td>0.0</td>\n      <td>0.0</td>\n      <td>0.0</td>\n      <td>0.0</td>\n      <td>0.0</td>\n      <td>0.0</td>\n      <td>0.0</td>\n      <td>0.0</td>\n      <td>0.0</td>\n      <td>0.0</td>\n      <td>...</td>\n      <td>0.0</td>\n      <td>0.0</td>\n      <td>0.0</td>\n      <td>0.0</td>\n      <td>0.0</td>\n      <td>0.0</td>\n      <td>0.0</td>\n      <td>0.0</td>\n      <td>0.0</td>\n      <td>0.0</td>\n    </tr>\n    <tr>\n      <th>Array.100</th>\n      <td>0.0</td>\n      <td>0.0</td>\n      <td>0.0</td>\n      <td>0.0</td>\n      <td>0.0</td>\n      <td>0.0</td>\n      <td>0.0</td>\n      <td>0.0</td>\n      <td>0.0</td>\n      <td>0.0</td>\n      <td>...</td>\n      <td>0.0</td>\n      <td>0.0</td>\n      <td>0.0</td>\n      <td>0.0</td>\n      <td>0.0</td>\n      <td>0.0</td>\n      <td>0.0</td>\n      <td>0.0</td>\n      <td>0.0</td>\n      <td>0.0</td>\n    </tr>\n    <tr>\n      <th>Array.134</th>\n      <td>-1.0</td>\n      <td>-1.0</td>\n      <td>-1.0</td>\n      <td>-1.0</td>\n      <td>-1.0</td>\n      <td>-1.0</td>\n      <td>-1.0</td>\n      <td>-1.0</td>\n      <td>-1.0</td>\n      <td>-1.0</td>\n      <td>...</td>\n      <td>-1.0</td>\n      <td>-1.0</td>\n      <td>-1.0</td>\n      <td>-1.0</td>\n      <td>-1.0</td>\n      <td>-1.0</td>\n      <td>-1.0</td>\n      <td>-1.0</td>\n      <td>-1.0</td>\n      <td>-1.0</td>\n    </tr>\n    <tr>\n      <th>Array.130</th>\n      <td>0.0</td>\n      <td>0.0</td>\n      <td>0.0</td>\n      <td>0.0</td>\n      <td>0.0</td>\n      <td>0.0</td>\n      <td>0.0</td>\n      <td>0.0</td>\n      <td>0.0</td>\n      <td>0.0</td>\n      <td>...</td>\n      <td>-1.0</td>\n      <td>-1.0</td>\n      <td>-1.0</td>\n      <td>-1.0</td>\n      <td>-1.0</td>\n      <td>-1.0</td>\n      <td>-1.0</td>\n      <td>-1.0</td>\n      <td>-1.0</td>\n      <td>-1.0</td>\n    </tr>\n  </tbody>\n</table>\n<p>104 rows × 1352 columns</p>\n</div>"
     },
     "execution_count": 228,
     "metadata": {},
     "output_type": "execute_result"
    }
   ],
   "source": [
    "data = data.transpose().merge(classes, how=\"left\", right_on=\"Sample\",left_index=True)\n",
    "data = data.set_index(\"Sample\").dropna(axis=1)\n",
    "data"
   ],
   "metadata": {
    "collapsed": false,
    "pycharm": {
     "name": "#%%\n"
    }
   }
  },
  {
   "cell_type": "code",
   "execution_count": 192,
   "outputs": [
    {
     "data": {
      "text/plain": "             0       1       2       3       4        5        6        7     \\\nChromosome      1       1       1       1       1        1        1        1   \nStart        2927   85022  370546  471671  792533   912799  1271190  1676445   \nEnd         43870  216735  372295  786483  907406  1266212  1590570  1703748   \nNclone          3       4       4       5      13       96       45        4   \n\n               8        9     ...      1340      1341      1342      1343  \\\nChromosome        1        1  ...        10        10        10        10   \nStart       1738295  2481927  ...  55351133  55795426  58432737  60125080   \nEnd         2477597  2562342  ...  55782605  58408695  60103148  63239913   \nNclone          104       14  ...        48       154        84       244   \n\n                1344      1345      1346      1347      1348      1349  \nChromosome        10        10        10        10        10        10  \nStart       63282635  64146695  66018580  66455837  67988973  68119528  \nEnd         64126023  66004965  66423604  67974175  68108381  71002959  \nNclone            83       110        17       100        14       324  \n\n[4 rows x 1350 columns]",
      "text/html": "<div>\n<style scoped>\n    .dataframe tbody tr th:only-of-type {\n        vertical-align: middle;\n    }\n\n    .dataframe tbody tr th {\n        vertical-align: top;\n    }\n\n    .dataframe thead th {\n        text-align: right;\n    }\n</style>\n<table border=\"1\" class=\"dataframe\">\n  <thead>\n    <tr style=\"text-align: right;\">\n      <th></th>\n      <th>0</th>\n      <th>1</th>\n      <th>2</th>\n      <th>3</th>\n      <th>4</th>\n      <th>5</th>\n      <th>6</th>\n      <th>7</th>\n      <th>8</th>\n      <th>9</th>\n      <th>...</th>\n      <th>1340</th>\n      <th>1341</th>\n      <th>1342</th>\n      <th>1343</th>\n      <th>1344</th>\n      <th>1345</th>\n      <th>1346</th>\n      <th>1347</th>\n      <th>1348</th>\n      <th>1349</th>\n    </tr>\n  </thead>\n  <tbody>\n    <tr>\n      <th>Chromosome</th>\n      <td>1</td>\n      <td>1</td>\n      <td>1</td>\n      <td>1</td>\n      <td>1</td>\n      <td>1</td>\n      <td>1</td>\n      <td>1</td>\n      <td>1</td>\n      <td>1</td>\n      <td>...</td>\n      <td>10</td>\n      <td>10</td>\n      <td>10</td>\n      <td>10</td>\n      <td>10</td>\n      <td>10</td>\n      <td>10</td>\n      <td>10</td>\n      <td>10</td>\n      <td>10</td>\n    </tr>\n    <tr>\n      <th>Start</th>\n      <td>2927</td>\n      <td>85022</td>\n      <td>370546</td>\n      <td>471671</td>\n      <td>792533</td>\n      <td>912799</td>\n      <td>1271190</td>\n      <td>1676445</td>\n      <td>1738295</td>\n      <td>2481927</td>\n      <td>...</td>\n      <td>55351133</td>\n      <td>55795426</td>\n      <td>58432737</td>\n      <td>60125080</td>\n      <td>63282635</td>\n      <td>64146695</td>\n      <td>66018580</td>\n      <td>66455837</td>\n      <td>67988973</td>\n      <td>68119528</td>\n    </tr>\n    <tr>\n      <th>End</th>\n      <td>43870</td>\n      <td>216735</td>\n      <td>372295</td>\n      <td>786483</td>\n      <td>907406</td>\n      <td>1266212</td>\n      <td>1590570</td>\n      <td>1703748</td>\n      <td>2477597</td>\n      <td>2562342</td>\n      <td>...</td>\n      <td>55782605</td>\n      <td>58408695</td>\n      <td>60103148</td>\n      <td>63239913</td>\n      <td>64126023</td>\n      <td>66004965</td>\n      <td>66423604</td>\n      <td>67974175</td>\n      <td>68108381</td>\n      <td>71002959</td>\n    </tr>\n    <tr>\n      <th>Nclone</th>\n      <td>3</td>\n      <td>4</td>\n      <td>4</td>\n      <td>5</td>\n      <td>13</td>\n      <td>96</td>\n      <td>45</td>\n      <td>4</td>\n      <td>104</td>\n      <td>14</td>\n      <td>...</td>\n      <td>48</td>\n      <td>154</td>\n      <td>84</td>\n      <td>244</td>\n      <td>83</td>\n      <td>110</td>\n      <td>17</td>\n      <td>100</td>\n      <td>14</td>\n      <td>324</td>\n    </tr>\n  </tbody>\n</table>\n<p>4 rows × 1350 columns</p>\n</div>"
     },
     "execution_count": 192,
     "metadata": {},
     "output_type": "execute_result"
    }
   ],
   "source": [
    "topInfo = data.iloc[:4].transpose().iloc[:-2].transpose()\n",
    "\n",
    "topInfo = topInfo.set_index(index).transpose()\n",
    "topInfo = topInfo.astype(int)\n",
    "topInfo = topInfo.transpose()\n",
    "topInfo"
   ],
   "metadata": {
    "collapsed": false,
    "pycharm": {
     "name": "#%%\n"
    }
   }
  },
  {
   "cell_type": "code",
   "execution_count": 132,
   "outputs": [
    {
     "data": {
      "text/plain": "         Sample    Subgroup\n0.0   Array.129       HER2+\n1.0    Array.34         HR+\n2.0    Array.67         HR+\n3.0    Array.24  Triple Neg\n4.0    Array.22  Triple Neg\n...         ...         ...\n95.0   Array.10       HER2+\n96.0  Array.123         HR+\n97.0  Array.100         HR+\n98.0  Array.134         HR+\n99.0  Array.130       HER2+\n\n[100 rows x 2 columns]",
      "text/html": "<div>\n<style scoped>\n    .dataframe tbody tr th:only-of-type {\n        vertical-align: middle;\n    }\n\n    .dataframe tbody tr th {\n        vertical-align: top;\n    }\n\n    .dataframe thead th {\n        text-align: right;\n    }\n</style>\n<table border=\"1\" class=\"dataframe\">\n  <thead>\n    <tr style=\"text-align: right;\">\n      <th></th>\n      <th>Sample</th>\n      <th>Subgroup</th>\n    </tr>\n  </thead>\n  <tbody>\n    <tr>\n      <th>0.0</th>\n      <td>Array.129</td>\n      <td>HER2+</td>\n    </tr>\n    <tr>\n      <th>1.0</th>\n      <td>Array.34</td>\n      <td>HR+</td>\n    </tr>\n    <tr>\n      <th>2.0</th>\n      <td>Array.67</td>\n      <td>HR+</td>\n    </tr>\n    <tr>\n      <th>3.0</th>\n      <td>Array.24</td>\n      <td>Triple Neg</td>\n    </tr>\n    <tr>\n      <th>4.0</th>\n      <td>Array.22</td>\n      <td>Triple Neg</td>\n    </tr>\n    <tr>\n      <th>...</th>\n      <td>...</td>\n      <td>...</td>\n    </tr>\n    <tr>\n      <th>95.0</th>\n      <td>Array.10</td>\n      <td>HER2+</td>\n    </tr>\n    <tr>\n      <th>96.0</th>\n      <td>Array.123</td>\n      <td>HR+</td>\n    </tr>\n    <tr>\n      <th>97.0</th>\n      <td>Array.100</td>\n      <td>HR+</td>\n    </tr>\n    <tr>\n      <th>98.0</th>\n      <td>Array.134</td>\n      <td>HR+</td>\n    </tr>\n    <tr>\n      <th>99.0</th>\n      <td>Array.130</td>\n      <td>HER2+</td>\n    </tr>\n  </tbody>\n</table>\n<p>100 rows × 2 columns</p>\n</div>"
     },
     "execution_count": 132,
     "metadata": {},
     "output_type": "execute_result"
    }
   ],
   "source": [],
   "metadata": {
    "collapsed": false,
    "pycharm": {
     "name": "#%%\n"
    }
   }
  },
  {
   "cell_type": "code",
   "execution_count": 193,
   "outputs": [
    {
     "data": {
      "text/plain": "           0     1     2     3     4     5     6     7     8     9     ...  \\\nSample                                                                 ...   \nArray.129   0.0   0.0   0.0   0.0   0.0   0.0   0.0   0.0   0.0   0.0  ...   \nArray.34    0.0   0.0   0.0   0.0   0.0   0.0   0.0   0.0   0.0   0.0  ...   \nArray.67    0.0   0.0   0.0   0.0   0.0   0.0   0.0   0.0   0.0   0.0  ...   \nArray.24    0.0   0.0   0.0   0.0   0.0   0.0   0.0  -1.0   0.0   0.0  ...   \nArray.22    0.0   0.0   0.0   0.0   0.0   0.0   0.0   0.0   0.0   0.0  ...   \n...         ...   ...   ...   ...   ...   ...   ...   ...   ...   ...  ...   \nArray.10    0.0   0.0   0.0   0.0   0.0   0.0   0.0   0.0   0.0   0.0  ...   \nArray.123   0.0   0.0   0.0   0.0   0.0   0.0   0.0   0.0   0.0   0.0  ...   \nArray.100   0.0   0.0   0.0   0.0   0.0   0.0   0.0   0.0   0.0   0.0  ...   \nArray.134  -1.0  -1.0  -1.0  -1.0  -1.0  -1.0  -1.0  -1.0  -1.0  -1.0  ...   \nArray.130   0.0   0.0   0.0   0.0   0.0   0.0   0.0   0.0   0.0   0.0  ...   \n\n           1341  1342  1343  1344  1345  1346  1347  1348  1349  1350  \nSample                                                                 \nArray.129   0.0   0.0   0.0   0.0   0.0   0.0   0.0   0.0   0.0   0.0  \nArray.34    1.0   1.0   1.0   1.0   1.0   1.0   1.0   1.0   1.0   1.0  \nArray.67    0.0   0.0   0.0   0.0   0.0   0.0   0.0   0.0   0.0   0.0  \nArray.24    0.0   0.0   0.0   0.0   0.0   0.0   0.0   0.0   0.0   0.0  \nArray.22    0.0   0.0   0.0   0.0   0.0   0.0   0.0   0.0   0.0   0.0  \n...         ...   ...   ...   ...   ...   ...   ...   ...   ...   ...  \nArray.10   -1.0  -1.0  -1.0  -1.0  -1.0  -1.0  -1.0  -1.0  -1.0  -1.0  \nArray.123   0.0   0.0   0.0   0.0   0.0   0.0   0.0   0.0   0.0   0.0  \nArray.100   0.0   0.0   0.0   0.0   0.0   0.0   0.0   0.0   0.0   0.0  \nArray.134  -1.0  -1.0  -1.0  -1.0  -1.0  -1.0  -1.0  -1.0  -1.0  -1.0  \nArray.130  -1.0  -1.0  -1.0  -1.0  -1.0  -1.0  -1.0  -1.0  -1.0  -1.0  \n\n[100 rows x 1351 columns]",
      "text/html": "<div>\n<style scoped>\n    .dataframe tbody tr th:only-of-type {\n        vertical-align: middle;\n    }\n\n    .dataframe tbody tr th {\n        vertical-align: top;\n    }\n\n    .dataframe thead th {\n        text-align: right;\n    }\n</style>\n<table border=\"1\" class=\"dataframe\">\n  <thead>\n    <tr style=\"text-align: right;\">\n      <th></th>\n      <th>0</th>\n      <th>1</th>\n      <th>2</th>\n      <th>3</th>\n      <th>4</th>\n      <th>5</th>\n      <th>6</th>\n      <th>7</th>\n      <th>8</th>\n      <th>9</th>\n      <th>...</th>\n      <th>1341</th>\n      <th>1342</th>\n      <th>1343</th>\n      <th>1344</th>\n      <th>1345</th>\n      <th>1346</th>\n      <th>1347</th>\n      <th>1348</th>\n      <th>1349</th>\n      <th>1350</th>\n    </tr>\n    <tr>\n      <th>Sample</th>\n      <th></th>\n      <th></th>\n      <th></th>\n      <th></th>\n      <th></th>\n      <th></th>\n      <th></th>\n      <th></th>\n      <th></th>\n      <th></th>\n      <th></th>\n      <th></th>\n      <th></th>\n      <th></th>\n      <th></th>\n      <th></th>\n      <th></th>\n      <th></th>\n      <th></th>\n      <th></th>\n      <th></th>\n    </tr>\n  </thead>\n  <tbody>\n    <tr>\n      <th>Array.129</th>\n      <td>0.0</td>\n      <td>0.0</td>\n      <td>0.0</td>\n      <td>0.0</td>\n      <td>0.0</td>\n      <td>0.0</td>\n      <td>0.0</td>\n      <td>0.0</td>\n      <td>0.0</td>\n      <td>0.0</td>\n      <td>...</td>\n      <td>0.0</td>\n      <td>0.0</td>\n      <td>0.0</td>\n      <td>0.0</td>\n      <td>0.0</td>\n      <td>0.0</td>\n      <td>0.0</td>\n      <td>0.0</td>\n      <td>0.0</td>\n      <td>0.0</td>\n    </tr>\n    <tr>\n      <th>Array.34</th>\n      <td>0.0</td>\n      <td>0.0</td>\n      <td>0.0</td>\n      <td>0.0</td>\n      <td>0.0</td>\n      <td>0.0</td>\n      <td>0.0</td>\n      <td>0.0</td>\n      <td>0.0</td>\n      <td>0.0</td>\n      <td>...</td>\n      <td>1.0</td>\n      <td>1.0</td>\n      <td>1.0</td>\n      <td>1.0</td>\n      <td>1.0</td>\n      <td>1.0</td>\n      <td>1.0</td>\n      <td>1.0</td>\n      <td>1.0</td>\n      <td>1.0</td>\n    </tr>\n    <tr>\n      <th>Array.67</th>\n      <td>0.0</td>\n      <td>0.0</td>\n      <td>0.0</td>\n      <td>0.0</td>\n      <td>0.0</td>\n      <td>0.0</td>\n      <td>0.0</td>\n      <td>0.0</td>\n      <td>0.0</td>\n      <td>0.0</td>\n      <td>...</td>\n      <td>0.0</td>\n      <td>0.0</td>\n      <td>0.0</td>\n      <td>0.0</td>\n      <td>0.0</td>\n      <td>0.0</td>\n      <td>0.0</td>\n      <td>0.0</td>\n      <td>0.0</td>\n      <td>0.0</td>\n    </tr>\n    <tr>\n      <th>Array.24</th>\n      <td>0.0</td>\n      <td>0.0</td>\n      <td>0.0</td>\n      <td>0.0</td>\n      <td>0.0</td>\n      <td>0.0</td>\n      <td>0.0</td>\n      <td>-1.0</td>\n      <td>0.0</td>\n      <td>0.0</td>\n      <td>...</td>\n      <td>0.0</td>\n      <td>0.0</td>\n      <td>0.0</td>\n      <td>0.0</td>\n      <td>0.0</td>\n      <td>0.0</td>\n      <td>0.0</td>\n      <td>0.0</td>\n      <td>0.0</td>\n      <td>0.0</td>\n    </tr>\n    <tr>\n      <th>Array.22</th>\n      <td>0.0</td>\n      <td>0.0</td>\n      <td>0.0</td>\n      <td>0.0</td>\n      <td>0.0</td>\n      <td>0.0</td>\n      <td>0.0</td>\n      <td>0.0</td>\n      <td>0.0</td>\n      <td>0.0</td>\n      <td>...</td>\n      <td>0.0</td>\n      <td>0.0</td>\n      <td>0.0</td>\n      <td>0.0</td>\n      <td>0.0</td>\n      <td>0.0</td>\n      <td>0.0</td>\n      <td>0.0</td>\n      <td>0.0</td>\n      <td>0.0</td>\n    </tr>\n    <tr>\n      <th>...</th>\n      <td>...</td>\n      <td>...</td>\n      <td>...</td>\n      <td>...</td>\n      <td>...</td>\n      <td>...</td>\n      <td>...</td>\n      <td>...</td>\n      <td>...</td>\n      <td>...</td>\n      <td>...</td>\n      <td>...</td>\n      <td>...</td>\n      <td>...</td>\n      <td>...</td>\n      <td>...</td>\n      <td>...</td>\n      <td>...</td>\n      <td>...</td>\n      <td>...</td>\n      <td>...</td>\n    </tr>\n    <tr>\n      <th>Array.10</th>\n      <td>0.0</td>\n      <td>0.0</td>\n      <td>0.0</td>\n      <td>0.0</td>\n      <td>0.0</td>\n      <td>0.0</td>\n      <td>0.0</td>\n      <td>0.0</td>\n      <td>0.0</td>\n      <td>0.0</td>\n      <td>...</td>\n      <td>-1.0</td>\n      <td>-1.0</td>\n      <td>-1.0</td>\n      <td>-1.0</td>\n      <td>-1.0</td>\n      <td>-1.0</td>\n      <td>-1.0</td>\n      <td>-1.0</td>\n      <td>-1.0</td>\n      <td>-1.0</td>\n    </tr>\n    <tr>\n      <th>Array.123</th>\n      <td>0.0</td>\n      <td>0.0</td>\n      <td>0.0</td>\n      <td>0.0</td>\n      <td>0.0</td>\n      <td>0.0</td>\n      <td>0.0</td>\n      <td>0.0</td>\n      <td>0.0</td>\n      <td>0.0</td>\n      <td>...</td>\n      <td>0.0</td>\n      <td>0.0</td>\n      <td>0.0</td>\n      <td>0.0</td>\n      <td>0.0</td>\n      <td>0.0</td>\n      <td>0.0</td>\n      <td>0.0</td>\n      <td>0.0</td>\n      <td>0.0</td>\n    </tr>\n    <tr>\n      <th>Array.100</th>\n      <td>0.0</td>\n      <td>0.0</td>\n      <td>0.0</td>\n      <td>0.0</td>\n      <td>0.0</td>\n      <td>0.0</td>\n      <td>0.0</td>\n      <td>0.0</td>\n      <td>0.0</td>\n      <td>0.0</td>\n      <td>...</td>\n      <td>0.0</td>\n      <td>0.0</td>\n      <td>0.0</td>\n      <td>0.0</td>\n      <td>0.0</td>\n      <td>0.0</td>\n      <td>0.0</td>\n      <td>0.0</td>\n      <td>0.0</td>\n      <td>0.0</td>\n    </tr>\n    <tr>\n      <th>Array.134</th>\n      <td>-1.0</td>\n      <td>-1.0</td>\n      <td>-1.0</td>\n      <td>-1.0</td>\n      <td>-1.0</td>\n      <td>-1.0</td>\n      <td>-1.0</td>\n      <td>-1.0</td>\n      <td>-1.0</td>\n      <td>-1.0</td>\n      <td>...</td>\n      <td>-1.0</td>\n      <td>-1.0</td>\n      <td>-1.0</td>\n      <td>-1.0</td>\n      <td>-1.0</td>\n      <td>-1.0</td>\n      <td>-1.0</td>\n      <td>-1.0</td>\n      <td>-1.0</td>\n      <td>-1.0</td>\n    </tr>\n    <tr>\n      <th>Array.130</th>\n      <td>0.0</td>\n      <td>0.0</td>\n      <td>0.0</td>\n      <td>0.0</td>\n      <td>0.0</td>\n      <td>0.0</td>\n      <td>0.0</td>\n      <td>0.0</td>\n      <td>0.0</td>\n      <td>0.0</td>\n      <td>...</td>\n      <td>-1.0</td>\n      <td>-1.0</td>\n      <td>-1.0</td>\n      <td>-1.0</td>\n      <td>-1.0</td>\n      <td>-1.0</td>\n      <td>-1.0</td>\n      <td>-1.0</td>\n      <td>-1.0</td>\n      <td>-1.0</td>\n    </tr>\n  </tbody>\n</table>\n<p>100 rows × 1351 columns</p>\n</div>"
     },
     "execution_count": 193,
     "metadata": {},
     "output_type": "execute_result"
    }
   ],
   "source": [
    "data = data.iloc[4:].transpose().iloc[:-1].transpose()\n",
    "data"
   ],
   "metadata": {
    "collapsed": false,
    "pycharm": {
     "name": "#%%\n"
    }
   }
  },
  {
   "cell_type": "code",
   "execution_count": 290,
   "outputs": [
    {
     "name": "stdout",
     "output_type": "stream",
     "text": [
      "Empty DataFrame\n",
      "Columns: []\n",
      "Index: []\n",
      "Error at CH 2 from 242430070 till 242784096\n",
      "Error at CH 3 from 199333505 till 199383479\n",
      "Error at CH 4 from 190887518 till 191025356\n",
      "Error at CH 4 from 191037678 till 191046020\n",
      "Error at CH 4 from 191062719 till 191134340\n",
      "Error at CH 4 from 191144773 till 191165971\n",
      "Error at CH 4 from 191191940 till 191311992\n",
      "Error at CH 6 from 170856656 till 170943103\n",
      "Error at CH 8 from 145962567 till 146264846\n"
     ]
    }
   ],
   "source": [
    "#print(topInfo)\n",
    "pathway_cluster = pd.DataFrame(columns=[\"Chromosome\",\"Start\",\"End\"].append(path_df.pathway.unique()[:-1]))\n",
    "max_seq_range = 5000000-1\n",
    "print(pathway_cluster)\n",
    "for i in topInfo.transpose().index:\n",
    "#for i in range(10):\n",
    "    full_data = []\n",
    "    #print(topInfo.transpose().iloc[i])\n",
    "    dataPoint = topInfo.transpose().iloc[i]\n",
    "    #print(dataPoint[1],dataPoint[2] )\n",
    "    Ch = dataPoint[0]\n",
    "    seq_range = range(np.math.ceil((dataPoint[2] - dataPoint[1])// max_seq_range)+1)\n",
    "    for x in seq_range:\n",
    "        if x != seq_range[-1]:\n",
    "            start = dataPoint[1]+(max_seq_range*x)\n",
    "            end = dataPoint[1]+(max_seq_range*(x+1))\n",
    "        elif x == seq_range[-1]:\n",
    "            start = dataPoint[1]+(max_seq_range*x)\n",
    "            end = dataPoint[1]+(max_seq_range*(x))+(dataPoint[2] - dataPoint[1])% max_seq_range\n",
    "        data_test = get_pathways(Ch, start, end)\n",
    "        #print(len(data_test), len(full_data))\n",
    "        full_data+=data_test\n",
    "    #print(Counter(full_data))\n",
    "    full_data = {\"Chromosome\":Ch,\"Start\":dataPoint[1],\"End\":dataPoint[2], **Counter(full_data)}\n",
    "    #full_data = pd.concat([dataPoint,full_data])\n",
    "\n",
    "    pathway_cluster = pathway_cluster.append(full_data, ignore_index=True)\n",
    "    #print(pathway_cluster)"
   ],
   "metadata": {
    "collapsed": false,
    "pycharm": {
     "name": "#%%\n"
    }
   }
  },
  {
   "cell_type": "code",
   "execution_count": 296,
   "outputs": [
    {
     "name": "stdout",
     "output_type": "stream",
     "text": [
      "['Chromosome', 'Start', 'End']\n",
      "Empty DataFrame\n",
      "Columns: []\n",
      "Index: []\n"
     ]
    }
   ],
   "source": [
    "t1 = topInfo.iloc[:3].transpose()\n",
    "t2 = pathway_cluster.transpose().iloc[:3].transpose().astype(int)\n",
    "\n",
    "print(t2.reindex(columns=list(t1)).compare(t1, ))\n"
   ],
   "metadata": {
    "collapsed": false,
    "pycharm": {
     "name": "#%%\n"
    }
   }
  },
  {
   "cell_type": "code",
   "execution_count": 297,
   "outputs": [
    {
     "data": {
      "text/plain": "               0         1         2         3         4          5     \\\nSample                                                                   \nChromosome      1.0       1.0       1.0       1.0       1.0        1.0   \nStart        2927.0   85022.0  370546.0  471671.0  792533.0   912799.0   \nEnd         43870.0  216735.0  372295.0  786483.0  907406.0  1266212.0   \nNclone          3.0       4.0       4.0       5.0      13.0       96.0   \nArray.129       0.0       0.0       0.0       0.0       0.0        0.0   \n...             ...       ...       ...       ...       ...        ...   \nArray.10        0.0       0.0       0.0       0.0       0.0        0.0   \nArray.123       0.0       0.0       0.0       0.0       0.0        0.0   \nArray.100       0.0       0.0       0.0       0.0       0.0        0.0   \nArray.134      -1.0      -1.0      -1.0      -1.0      -1.0       -1.0   \nArray.130       0.0       0.0       0.0       0.0       0.0        0.0   \n\n                 6          7          8          9     ...        1342  \\\nSample                                                  ...               \nChromosome        1.0        1.0        1.0        1.0  ...        10.0   \nStart       1271190.0  1676445.0  1738295.0  2481927.0  ...  58432737.0   \nEnd         1590570.0  1703748.0  2477597.0  2562342.0  ...  60103148.0   \nNclone           45.0        4.0      104.0       14.0  ...        84.0   \nArray.129         0.0        0.0        0.0        0.0  ...         0.0   \n...               ...        ...        ...        ...  ...         ...   \nArray.10          0.0        0.0        0.0        0.0  ...        -1.0   \nArray.123         0.0        0.0        0.0        0.0  ...         0.0   \nArray.100         0.0        0.0        0.0        0.0  ...         0.0   \nArray.134        -1.0       -1.0       -1.0       -1.0  ...        -1.0   \nArray.130         0.0        0.0        0.0        0.0  ...        -1.0   \n\n                  1343        1344        1345        1346        1347  \\\nSample                                                                   \nChromosome        10.0        10.0        10.0        10.0        10.0   \nStart       60125080.0  63282635.0  64146695.0  66018580.0  66455837.0   \nEnd         63239913.0  64126023.0  66004965.0  66423604.0  67974175.0   \nNclone           244.0        83.0       110.0        17.0       100.0   \nArray.129          0.0         0.0         0.0         0.0         0.0   \n...                ...         ...         ...         ...         ...   \nArray.10          -1.0        -1.0        -1.0        -1.0        -1.0   \nArray.123          0.0         0.0         0.0         0.0         0.0   \nArray.100          0.0         0.0         0.0         0.0         0.0   \nArray.134         -1.0        -1.0        -1.0        -1.0        -1.0   \nArray.130         -1.0        -1.0        -1.0        -1.0        -1.0   \n\n                  1348        1349        1350        1351  \nSample                                                      \nChromosome        10.0        10.0        10.0        10.0  \nStart       67988973.0  68119528.0  71007045.0  72351591.0  \nEnd         68108381.0  71002959.0  72336589.0  73557841.0  \nNclone            14.0       324.0       156.0       111.0  \nArray.129          0.0         0.0         0.0         0.0  \n...                ...         ...         ...         ...  \nArray.10          -1.0        -1.0        -1.0        -1.0  \nArray.123          0.0         0.0         0.0         0.0  \nArray.100          0.0         0.0         0.0         0.0  \nArray.134         -1.0        -1.0        -1.0        -1.0  \nArray.130         -1.0        -1.0        -1.0        -1.0  \n\n[104 rows x 1352 columns]",
      "text/html": "<div>\n<style scoped>\n    .dataframe tbody tr th:only-of-type {\n        vertical-align: middle;\n    }\n\n    .dataframe tbody tr th {\n        vertical-align: top;\n    }\n\n    .dataframe thead th {\n        text-align: right;\n    }\n</style>\n<table border=\"1\" class=\"dataframe\">\n  <thead>\n    <tr style=\"text-align: right;\">\n      <th></th>\n      <th>0</th>\n      <th>1</th>\n      <th>2</th>\n      <th>3</th>\n      <th>4</th>\n      <th>5</th>\n      <th>6</th>\n      <th>7</th>\n      <th>8</th>\n      <th>9</th>\n      <th>...</th>\n      <th>1342</th>\n      <th>1343</th>\n      <th>1344</th>\n      <th>1345</th>\n      <th>1346</th>\n      <th>1347</th>\n      <th>1348</th>\n      <th>1349</th>\n      <th>1350</th>\n      <th>1351</th>\n    </tr>\n    <tr>\n      <th>Sample</th>\n      <th></th>\n      <th></th>\n      <th></th>\n      <th></th>\n      <th></th>\n      <th></th>\n      <th></th>\n      <th></th>\n      <th></th>\n      <th></th>\n      <th></th>\n      <th></th>\n      <th></th>\n      <th></th>\n      <th></th>\n      <th></th>\n      <th></th>\n      <th></th>\n      <th></th>\n      <th></th>\n      <th></th>\n    </tr>\n  </thead>\n  <tbody>\n    <tr>\n      <th>Chromosome</th>\n      <td>1.0</td>\n      <td>1.0</td>\n      <td>1.0</td>\n      <td>1.0</td>\n      <td>1.0</td>\n      <td>1.0</td>\n      <td>1.0</td>\n      <td>1.0</td>\n      <td>1.0</td>\n      <td>1.0</td>\n      <td>...</td>\n      <td>10.0</td>\n      <td>10.0</td>\n      <td>10.0</td>\n      <td>10.0</td>\n      <td>10.0</td>\n      <td>10.0</td>\n      <td>10.0</td>\n      <td>10.0</td>\n      <td>10.0</td>\n      <td>10.0</td>\n    </tr>\n    <tr>\n      <th>Start</th>\n      <td>2927.0</td>\n      <td>85022.0</td>\n      <td>370546.0</td>\n      <td>471671.0</td>\n      <td>792533.0</td>\n      <td>912799.0</td>\n      <td>1271190.0</td>\n      <td>1676445.0</td>\n      <td>1738295.0</td>\n      <td>2481927.0</td>\n      <td>...</td>\n      <td>58432737.0</td>\n      <td>60125080.0</td>\n      <td>63282635.0</td>\n      <td>64146695.0</td>\n      <td>66018580.0</td>\n      <td>66455837.0</td>\n      <td>67988973.0</td>\n      <td>68119528.0</td>\n      <td>71007045.0</td>\n      <td>72351591.0</td>\n    </tr>\n    <tr>\n      <th>End</th>\n      <td>43870.0</td>\n      <td>216735.0</td>\n      <td>372295.0</td>\n      <td>786483.0</td>\n      <td>907406.0</td>\n      <td>1266212.0</td>\n      <td>1590570.0</td>\n      <td>1703748.0</td>\n      <td>2477597.0</td>\n      <td>2562342.0</td>\n      <td>...</td>\n      <td>60103148.0</td>\n      <td>63239913.0</td>\n      <td>64126023.0</td>\n      <td>66004965.0</td>\n      <td>66423604.0</td>\n      <td>67974175.0</td>\n      <td>68108381.0</td>\n      <td>71002959.0</td>\n      <td>72336589.0</td>\n      <td>73557841.0</td>\n    </tr>\n    <tr>\n      <th>Nclone</th>\n      <td>3.0</td>\n      <td>4.0</td>\n      <td>4.0</td>\n      <td>5.0</td>\n      <td>13.0</td>\n      <td>96.0</td>\n      <td>45.0</td>\n      <td>4.0</td>\n      <td>104.0</td>\n      <td>14.0</td>\n      <td>...</td>\n      <td>84.0</td>\n      <td>244.0</td>\n      <td>83.0</td>\n      <td>110.0</td>\n      <td>17.0</td>\n      <td>100.0</td>\n      <td>14.0</td>\n      <td>324.0</td>\n      <td>156.0</td>\n      <td>111.0</td>\n    </tr>\n    <tr>\n      <th>Array.129</th>\n      <td>0.0</td>\n      <td>0.0</td>\n      <td>0.0</td>\n      <td>0.0</td>\n      <td>0.0</td>\n      <td>0.0</td>\n      <td>0.0</td>\n      <td>0.0</td>\n      <td>0.0</td>\n      <td>0.0</td>\n      <td>...</td>\n      <td>0.0</td>\n      <td>0.0</td>\n      <td>0.0</td>\n      <td>0.0</td>\n      <td>0.0</td>\n      <td>0.0</td>\n      <td>0.0</td>\n      <td>0.0</td>\n      <td>0.0</td>\n      <td>0.0</td>\n    </tr>\n    <tr>\n      <th>...</th>\n      <td>...</td>\n      <td>...</td>\n      <td>...</td>\n      <td>...</td>\n      <td>...</td>\n      <td>...</td>\n      <td>...</td>\n      <td>...</td>\n      <td>...</td>\n      <td>...</td>\n      <td>...</td>\n      <td>...</td>\n      <td>...</td>\n      <td>...</td>\n      <td>...</td>\n      <td>...</td>\n      <td>...</td>\n      <td>...</td>\n      <td>...</td>\n      <td>...</td>\n      <td>...</td>\n    </tr>\n    <tr>\n      <th>Array.10</th>\n      <td>0.0</td>\n      <td>0.0</td>\n      <td>0.0</td>\n      <td>0.0</td>\n      <td>0.0</td>\n      <td>0.0</td>\n      <td>0.0</td>\n      <td>0.0</td>\n      <td>0.0</td>\n      <td>0.0</td>\n      <td>...</td>\n      <td>-1.0</td>\n      <td>-1.0</td>\n      <td>-1.0</td>\n      <td>-1.0</td>\n      <td>-1.0</td>\n      <td>-1.0</td>\n      <td>-1.0</td>\n      <td>-1.0</td>\n      <td>-1.0</td>\n      <td>-1.0</td>\n    </tr>\n    <tr>\n      <th>Array.123</th>\n      <td>0.0</td>\n      <td>0.0</td>\n      <td>0.0</td>\n      <td>0.0</td>\n      <td>0.0</td>\n      <td>0.0</td>\n      <td>0.0</td>\n      <td>0.0</td>\n      <td>0.0</td>\n      <td>0.0</td>\n      <td>...</td>\n      <td>0.0</td>\n      <td>0.0</td>\n      <td>0.0</td>\n      <td>0.0</td>\n      <td>0.0</td>\n      <td>0.0</td>\n      <td>0.0</td>\n      <td>0.0</td>\n      <td>0.0</td>\n      <td>0.0</td>\n    </tr>\n    <tr>\n      <th>Array.100</th>\n      <td>0.0</td>\n      <td>0.0</td>\n      <td>0.0</td>\n      <td>0.0</td>\n      <td>0.0</td>\n      <td>0.0</td>\n      <td>0.0</td>\n      <td>0.0</td>\n      <td>0.0</td>\n      <td>0.0</td>\n      <td>...</td>\n      <td>0.0</td>\n      <td>0.0</td>\n      <td>0.0</td>\n      <td>0.0</td>\n      <td>0.0</td>\n      <td>0.0</td>\n      <td>0.0</td>\n      <td>0.0</td>\n      <td>0.0</td>\n      <td>0.0</td>\n    </tr>\n    <tr>\n      <th>Array.134</th>\n      <td>-1.0</td>\n      <td>-1.0</td>\n      <td>-1.0</td>\n      <td>-1.0</td>\n      <td>-1.0</td>\n      <td>-1.0</td>\n      <td>-1.0</td>\n      <td>-1.0</td>\n      <td>-1.0</td>\n      <td>-1.0</td>\n      <td>...</td>\n      <td>-1.0</td>\n      <td>-1.0</td>\n      <td>-1.0</td>\n      <td>-1.0</td>\n      <td>-1.0</td>\n      <td>-1.0</td>\n      <td>-1.0</td>\n      <td>-1.0</td>\n      <td>-1.0</td>\n      <td>-1.0</td>\n    </tr>\n    <tr>\n      <th>Array.130</th>\n      <td>0.0</td>\n      <td>0.0</td>\n      <td>0.0</td>\n      <td>0.0</td>\n      <td>0.0</td>\n      <td>0.0</td>\n      <td>0.0</td>\n      <td>0.0</td>\n      <td>0.0</td>\n      <td>0.0</td>\n      <td>...</td>\n      <td>-1.0</td>\n      <td>-1.0</td>\n      <td>-1.0</td>\n      <td>-1.0</td>\n      <td>-1.0</td>\n      <td>-1.0</td>\n      <td>-1.0</td>\n      <td>-1.0</td>\n      <td>-1.0</td>\n      <td>-1.0</td>\n    </tr>\n  </tbody>\n</table>\n<p>104 rows × 1352 columns</p>\n</div>"
     },
     "execution_count": 297,
     "metadata": {},
     "output_type": "execute_result"
    }
   ],
   "source": [
    "data.dropna(axis=1)\n"
   ],
   "metadata": {
    "collapsed": false,
    "pycharm": {
     "name": "#%%\n"
    }
   }
  },
  {
   "cell_type": "code",
   "execution_count": 294,
   "outputs": [
    {
     "ename": "ValueError",
     "evalue": "shapes (100, 1352) and (1350, 344) not aligned",
     "output_type": "error",
     "traceback": [
      "\u001B[1;31m---------------------------------------------------------------------------\u001B[0m",
      "\u001B[1;31mValueError\u001B[0m                                Traceback (most recent call last)",
      "\u001B[1;32m~\\anaconda3\\envs\\school\\lib\\site-packages\\pandas\\core\\frame.py\u001B[0m in \u001B[0;36m__rmatmul__\u001B[1;34m(self, other)\u001B[0m\n\u001B[0;32m   1284\u001B[0m         \u001B[1;32mtry\u001B[0m\u001B[1;33m:\u001B[0m\u001B[1;33m\u001B[0m\u001B[1;33m\u001B[0m\u001B[0m\n\u001B[1;32m-> 1285\u001B[1;33m             \u001B[1;32mreturn\u001B[0m \u001B[0mself\u001B[0m\u001B[1;33m.\u001B[0m\u001B[0mT\u001B[0m\u001B[1;33m.\u001B[0m\u001B[0mdot\u001B[0m\u001B[1;33m(\u001B[0m\u001B[0mnp\u001B[0m\u001B[1;33m.\u001B[0m\u001B[0mtranspose\u001B[0m\u001B[1;33m(\u001B[0m\u001B[0mother\u001B[0m\u001B[1;33m)\u001B[0m\u001B[1;33m)\u001B[0m\u001B[1;33m.\u001B[0m\u001B[0mT\u001B[0m\u001B[1;33m\u001B[0m\u001B[1;33m\u001B[0m\u001B[0m\n\u001B[0m\u001B[0;32m   1286\u001B[0m         \u001B[1;32mexcept\u001B[0m \u001B[0mValueError\u001B[0m \u001B[1;32mas\u001B[0m \u001B[0merr\u001B[0m\u001B[1;33m:\u001B[0m\u001B[1;33m\u001B[0m\u001B[1;33m\u001B[0m\u001B[0m\n",
      "\u001B[1;32m~\\anaconda3\\envs\\school\\lib\\site-packages\\pandas\\core\\frame.py\u001B[0m in \u001B[0;36mdot\u001B[1;34m(self, other)\u001B[0m\n\u001B[0;32m   1254\u001B[0m             \u001B[1;32mif\u001B[0m \u001B[0mlvals\u001B[0m\u001B[1;33m.\u001B[0m\u001B[0mshape\u001B[0m\u001B[1;33m[\u001B[0m\u001B[1;36m1\u001B[0m\u001B[1;33m]\u001B[0m \u001B[1;33m!=\u001B[0m \u001B[0mrvals\u001B[0m\u001B[1;33m.\u001B[0m\u001B[0mshape\u001B[0m\u001B[1;33m[\u001B[0m\u001B[1;36m0\u001B[0m\u001B[1;33m]\u001B[0m\u001B[1;33m:\u001B[0m\u001B[1;33m\u001B[0m\u001B[1;33m\u001B[0m\u001B[0m\n\u001B[1;32m-> 1255\u001B[1;33m                 raise ValueError(\n\u001B[0m\u001B[0;32m   1256\u001B[0m                     \u001B[1;34mf\"Dot product shape mismatch, {lvals.shape} vs {rvals.shape}\"\u001B[0m\u001B[1;33m\u001B[0m\u001B[1;33m\u001B[0m\u001B[0m\n",
      "\u001B[1;31mValueError\u001B[0m: Dot product shape mismatch, (344, 1350) vs (1352, 100)",
      "\nThe above exception was the direct cause of the following exception:\n",
      "\u001B[1;31mValueError\u001B[0m                                Traceback (most recent call last)",
      "\u001B[1;32m<ipython-input-294-797d66ab259e>\u001B[0m in \u001B[0;36m<module>\u001B[1;34m\u001B[0m\n\u001B[0;32m      1\u001B[0m \u001B[1;31m#dotprosuct the data to retrieve the sumdata per\u001B[0m\u001B[1;33m\u001B[0m\u001B[1;33m\u001B[0m\u001B[1;33m\u001B[0m\u001B[0m\n\u001B[1;32m----> 2\u001B[1;33m \u001B[0mpathway_data\u001B[0m \u001B[1;33m=\u001B[0m \u001B[0mdata\u001B[0m\u001B[1;33m.\u001B[0m\u001B[0miloc\u001B[0m\u001B[1;33m[\u001B[0m\u001B[1;36m4\u001B[0m\u001B[1;33m:\u001B[0m\u001B[1;33m]\u001B[0m\u001B[1;33m.\u001B[0m\u001B[0mto_numpy\u001B[0m\u001B[1;33m(\u001B[0m\u001B[1;33m)\u001B[0m \u001B[1;33m@\u001B[0m \u001B[0mpathway_cluster\u001B[0m\u001B[1;33m.\u001B[0m\u001B[0mfillna\u001B[0m\u001B[1;33m(\u001B[0m\u001B[1;36m0\u001B[0m\u001B[1;33m)\u001B[0m\u001B[1;33m\u001B[0m\u001B[1;33m\u001B[0m\u001B[0m\n\u001B[0m\u001B[0;32m      3\u001B[0m \u001B[0mfinal_data\u001B[0m \u001B[1;33m=\u001B[0m \u001B[0mpd\u001B[0m\u001B[1;33m.\u001B[0m\u001B[0mconcat\u001B[0m\u001B[1;33m(\u001B[0m\u001B[1;33m[\u001B[0m\u001B[0mclasses\u001B[0m\u001B[1;33m.\u001B[0m\u001B[0mreset_index\u001B[0m\u001B[1;33m(\u001B[0m\u001B[1;33m)\u001B[0m\u001B[1;33m.\u001B[0m\u001B[0mSubgroup\u001B[0m\u001B[1;33m,\u001B[0m \u001B[0mpathway_data\u001B[0m\u001B[1;33m.\u001B[0m\u001B[0mtranspose\u001B[0m\u001B[1;33m(\u001B[0m\u001B[1;33m)\u001B[0m\u001B[1;33m]\u001B[0m\u001B[1;33m,\u001B[0m \u001B[0mignore_index\u001B[0m\u001B[1;33m=\u001B[0m\u001B[1;32mTrue\u001B[0m\u001B[1;33m,\u001B[0m \u001B[0maxis\u001B[0m\u001B[1;33m=\u001B[0m\u001B[1;36m1\u001B[0m\u001B[1;33m)\u001B[0m\u001B[1;33m\u001B[0m\u001B[1;33m\u001B[0m\u001B[0m\n\u001B[0;32m      4\u001B[0m \u001B[0mfinal_data\u001B[0m\u001B[1;33m.\u001B[0m\u001B[0mcolumns\u001B[0m \u001B[1;33m=\u001B[0m \u001B[0mpathway_cluster\u001B[0m\u001B[1;33m.\u001B[0m\u001B[0mcolumns\u001B[0m\u001B[1;33m.\u001B[0m\u001B[0minsert\u001B[0m\u001B[1;33m(\u001B[0m\u001B[1;36m0\u001B[0m\u001B[1;33m,\u001B[0m\u001B[1;34m\"Subgroup\"\u001B[0m\u001B[1;33m)\u001B[0m\u001B[1;33m\u001B[0m\u001B[1;33m\u001B[0m\u001B[0m\n\u001B[0;32m      5\u001B[0m \u001B[0mfinal_data\u001B[0m\u001B[1;33m=\u001B[0m \u001B[0mfinal_data\u001B[0m\u001B[1;33m.\u001B[0m\u001B[0mset_index\u001B[0m\u001B[1;33m(\u001B[0m\u001B[1;34m\"Subgroup\"\u001B[0m\u001B[1;33m)\u001B[0m\u001B[1;33m\u001B[0m\u001B[1;33m\u001B[0m\u001B[0m\n",
      "\u001B[1;32m~\\anaconda3\\envs\\school\\lib\\site-packages\\pandas\\core\\generic.py\u001B[0m in \u001B[0;36m__array_ufunc__\u001B[1;34m(self, ufunc, method, *inputs, **kwargs)\u001B[0m\n\u001B[0;32m   1933\u001B[0m         \u001B[0mself\u001B[0m\u001B[1;33m,\u001B[0m \u001B[0mufunc\u001B[0m\u001B[1;33m:\u001B[0m \u001B[0mCallable\u001B[0m\u001B[1;33m,\u001B[0m \u001B[0mmethod\u001B[0m\u001B[1;33m:\u001B[0m \u001B[0mstr\u001B[0m\u001B[1;33m,\u001B[0m \u001B[1;33m*\u001B[0m\u001B[0minputs\u001B[0m\u001B[1;33m:\u001B[0m \u001B[0mAny\u001B[0m\u001B[1;33m,\u001B[0m \u001B[1;33m**\u001B[0m\u001B[0mkwargs\u001B[0m\u001B[1;33m:\u001B[0m \u001B[0mAny\u001B[0m\u001B[1;33m\u001B[0m\u001B[1;33m\u001B[0m\u001B[0m\n\u001B[0;32m   1934\u001B[0m     ):\n\u001B[1;32m-> 1935\u001B[1;33m         \u001B[1;32mreturn\u001B[0m \u001B[0marraylike\u001B[0m\u001B[1;33m.\u001B[0m\u001B[0marray_ufunc\u001B[0m\u001B[1;33m(\u001B[0m\u001B[0mself\u001B[0m\u001B[1;33m,\u001B[0m \u001B[0mufunc\u001B[0m\u001B[1;33m,\u001B[0m \u001B[0mmethod\u001B[0m\u001B[1;33m,\u001B[0m \u001B[1;33m*\u001B[0m\u001B[0minputs\u001B[0m\u001B[1;33m,\u001B[0m \u001B[1;33m**\u001B[0m\u001B[0mkwargs\u001B[0m\u001B[1;33m)\u001B[0m\u001B[1;33m\u001B[0m\u001B[1;33m\u001B[0m\u001B[0m\n\u001B[0m\u001B[0;32m   1936\u001B[0m \u001B[1;33m\u001B[0m\u001B[0m\n\u001B[0;32m   1937\u001B[0m     \u001B[1;31m# ideally we would define this to avoid the getattr checks, but\u001B[0m\u001B[1;33m\u001B[0m\u001B[1;33m\u001B[0m\u001B[1;33m\u001B[0m\u001B[0m\n",
      "\u001B[1;32m~\\anaconda3\\envs\\school\\lib\\site-packages\\pandas\\core\\arraylike.py\u001B[0m in \u001B[0;36marray_ufunc\u001B[1;34m(self, ufunc, method, *inputs, **kwargs)\u001B[0m\n\u001B[0;32m    248\u001B[0m \u001B[1;33m\u001B[0m\u001B[0m\n\u001B[0;32m    249\u001B[0m     \u001B[1;31m# for binary ops, use our custom dunder methods\u001B[0m\u001B[1;33m\u001B[0m\u001B[1;33m\u001B[0m\u001B[1;33m\u001B[0m\u001B[0m\n\u001B[1;32m--> 250\u001B[1;33m     \u001B[0mresult\u001B[0m \u001B[1;33m=\u001B[0m \u001B[0mmaybe_dispatch_ufunc_to_dunder_op\u001B[0m\u001B[1;33m(\u001B[0m\u001B[0mself\u001B[0m\u001B[1;33m,\u001B[0m \u001B[0mufunc\u001B[0m\u001B[1;33m,\u001B[0m \u001B[0mmethod\u001B[0m\u001B[1;33m,\u001B[0m \u001B[1;33m*\u001B[0m\u001B[0minputs\u001B[0m\u001B[1;33m,\u001B[0m \u001B[1;33m**\u001B[0m\u001B[0mkwargs\u001B[0m\u001B[1;33m)\u001B[0m\u001B[1;33m\u001B[0m\u001B[1;33m\u001B[0m\u001B[0m\n\u001B[0m\u001B[0;32m    251\u001B[0m     \u001B[1;32mif\u001B[0m \u001B[0mresult\u001B[0m \u001B[1;32mis\u001B[0m \u001B[1;32mnot\u001B[0m \u001B[0mNotImplemented\u001B[0m\u001B[1;33m:\u001B[0m\u001B[1;33m\u001B[0m\u001B[1;33m\u001B[0m\u001B[0m\n\u001B[0;32m    252\u001B[0m         \u001B[1;32mreturn\u001B[0m \u001B[0mresult\u001B[0m\u001B[1;33m\u001B[0m\u001B[1;33m\u001B[0m\u001B[0m\n",
      "\u001B[1;32mpandas\\_libs\\ops_dispatch.pyx\u001B[0m in \u001B[0;36mpandas._libs.ops_dispatch.maybe_dispatch_ufunc_to_dunder_op\u001B[1;34m()\u001B[0m\n",
      "\u001B[1;32m~\\anaconda3\\envs\\school\\lib\\site-packages\\pandas\\core\\frame.py\u001B[0m in \u001B[0;36m__rmatmul__\u001B[1;34m(self, other)\u001B[0m\n\u001B[0;32m   1289\u001B[0m             \u001B[1;31m# GH#21581 give exception message for original shapes\u001B[0m\u001B[1;33m\u001B[0m\u001B[1;33m\u001B[0m\u001B[1;33m\u001B[0m\u001B[0m\n\u001B[0;32m   1290\u001B[0m             \u001B[0mmsg\u001B[0m \u001B[1;33m=\u001B[0m \u001B[1;34mf\"shapes {np.shape(other)} and {self.shape} not aligned\"\u001B[0m\u001B[1;33m\u001B[0m\u001B[1;33m\u001B[0m\u001B[0m\n\u001B[1;32m-> 1291\u001B[1;33m             \u001B[1;32mraise\u001B[0m \u001B[0mValueError\u001B[0m\u001B[1;33m(\u001B[0m\u001B[0mmsg\u001B[0m\u001B[1;33m)\u001B[0m \u001B[1;32mfrom\u001B[0m \u001B[0merr\u001B[0m\u001B[1;33m\u001B[0m\u001B[1;33m\u001B[0m\u001B[0m\n\u001B[0m\u001B[0;32m   1292\u001B[0m \u001B[1;33m\u001B[0m\u001B[0m\n\u001B[0;32m   1293\u001B[0m     \u001B[1;31m# ----------------------------------------------------------------------\u001B[0m\u001B[1;33m\u001B[0m\u001B[1;33m\u001B[0m\u001B[1;33m\u001B[0m\u001B[0m\n",
      "\u001B[1;31mValueError\u001B[0m: shapes (100, 1352) and (1350, 344) not aligned"
     ]
    }
   ],
   "source": [
    "#dotprosuct the data to retrieve the sumdata per\n",
    "pathway_data = data.iloc[4:].to_numpy() @ pathway_cluster.fillna(0)\n",
    "final_data = pd.concat([classes.reset_index().Subgroup, pathway_data.transpose()], ignore_index=True, axis=1)\n",
    "final_data.columns = pathway_cluster.columns.insert(0,\"Subgroup\")\n",
    "final_data= final_data.set_index(\"Subgroup\")"
   ],
   "metadata": {
    "collapsed": false,
    "pycharm": {
     "name": "#%%\n"
    }
   }
  },
  {
   "cell_type": "code",
   "execution_count": null,
   "outputs": [],
   "source": [
    "final_data.groupby(\"Subgroup\").mean()"
   ],
   "metadata": {
    "collapsed": false,
    "pycharm": {
     "name": "#%%\n"
    }
   }
  },
  {
   "cell_type": "code",
   "execution_count": null,
   "outputs": [],
   "source": [
    "final_data.to_csv(sys.path[1]+\"pathway_data.csv\")"
   ],
   "metadata": {
    "collapsed": false,
    "pycharm": {
     "name": "#%%\n"
    }
   }
  }
 ],
 "metadata": {
  "kernelspec": {
   "name": "python3",
   "language": "python",
   "display_name": "Python 3"
  },
  "language_info": {
   "codemirror_mode": {
    "name": "ipython",
    "version": 2
   },
   "file_extension": ".py",
   "mimetype": "text/x-python",
   "name": "python",
   "nbconvert_exporter": "python",
   "pygments_lexer": "ipython2",
   "version": "2.7.6"
  }
 },
 "nbformat": 4,
 "nbformat_minor": 0
}