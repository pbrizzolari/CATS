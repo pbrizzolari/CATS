{
 "cells": [
  {
   "cell_type": "code",
   "execution_count": 1,
   "metadata": {},
   "outputs": [],
   "source": [
    "from sklearn.metrics import accuracy_score, confusion_matrix, ConfusionMatrixDisplay\n",
    "import pandas as pd\n",
    "import numpy as np\n",
    "from sklearn import preprocessing\n",
    "from sklearn import linear_model\n",
    "from sklearn import decomposition\n",
    "from matplotlib import pyplot as plt\n",
    "from sklearn import neighbors\n",
    "from sklearn.ensemble import RandomForestClassifier\n",
    "\n",
    "from double_CV_builder import DCV"
   ]
  },
  {
   "cell_type": "code",
   "execution_count": 2,
   "metadata": {
    "pycharm": {
     "name": "#%%\n"
    }
   },
   "outputs": [
    {
     "name": "stdout",
     "output_type": "stream",
     "text": [
      "dict_keys(['bootstrap', 'ccp_alpha', 'class_weight', 'criterion', 'max_depth', 'max_features', 'max_leaf_nodes', 'max_samples', 'min_impurity_decrease', 'min_impurity_split', 'min_samples_leaf', 'min_samples_split', 'min_weight_fraction_leaf', 'n_estimators', 'n_jobs', 'oob_score', 'random_state', 'verbose', 'warm_start'])\n"
     ]
    }
   ],
   "source": [
    "# imports the data\n",
    "data = pd.read_csv(\"../raw_data/train_call.txt\", index_col=0, delimiter=\"\\t\").transpose()\n",
    "topInfo = data.iloc[:3]\n",
    "data = data.iloc[4:].dropna(axis=1)\n",
    "classes = pd.read_csv(\"../raw_data/train_clinical.txt\", delimiter=\"\\t\", index_col=0)\n",
    "data = classes.join(data).set_index(\"Subgroup\").dropna()\n",
    "# Add 1 to data because of chi-square feature selection\n",
    "\n",
    "\n",
    "DCV.outer_repeats = 5\n",
    "DCV.inner_repeats = 10\n",
    "DCV.num_features = 150\n",
    "\n",
    "model = RandomForestClassifier(n_estimators=20, random_state=123)\n",
    "modeller = DCV(model)\n",
    "# prints all the params you can change :)\n",
    "print(model.get_params().keys())\n",
    "# select which params you want to test with the inner loop\n",
    "# space is the paramater space\n",
    "modeller.hyperParams['C'] = [100, 10, 1.0, 0.1, 0.01]\n",
    "modeller.hyperParams['l1_ratio'] = [0.1, 0.3, 0.5, 0.7, 0.9]\n",
    "\n"
   ]
  },
  {
   "cell_type": "code",
   "execution_count": 3,
   "metadata": {
    "pycharm": {
     "name": "#%%\n"
    }
   },
   "outputs": [
    {
     "name": "stdout",
     "output_type": "stream",
     "text": [
      "(99, 1352)\n",
      "accuracy: 0.55; precision:0.55; model:LogisticRegression(l1_ratio=0.9, max_iter=10000, multi_class='ovr',\n",
      "                   penalty='elasticnet', solver='saga')\n",
      "accuracy: 0.55; precision:0.55; model:LogisticRegression(C=10, l1_ratio=0.9, max_iter=10000, multi_class='ovr',\n",
      "                   penalty='elasticnet', solver='saga')\n",
      "accuracy: 0.55; precision:0.55; model:LogisticRegression(l1_ratio=0.5, max_iter=10000, multi_class='ovr',\n",
      "                   penalty='elasticnet', solver='saga')\n",
      "accuracy: 0.6; precision:0.6; model:LogisticRegression(C=10, l1_ratio=0.1, max_iter=10000, multi_class='ovr',\n",
      "                   penalty='elasticnet', solver='saga')\n",
      "accuracy: 0.3; precision:0.3; model:LogisticRegression(l1_ratio=0.9, max_iter=10000, multi_class='ovr',\n",
      "                   penalty='elasticnet', solver='saga')\n",
      "(99, 1352)\n",
      "0.98989898989899\n"
     ]
    }
   ],
   "source": [
    "# this does everything for you :)\n",
    "# first is the data used, seconds comes the classifications and than with loop the amount of loops you want to do\n",
    "\n",
    "modeller.train_fit(data=data, classes=data.index, loop=1)\n",
    "# some test code\n",
    "\n",
    "print(accuracy_score(DCV.__class_cleaner__(None, data.index),modeller.predict(data)))"
   ]
  },
  {
   "cell_type": "code",
   "execution_count": 4,
   "metadata": {
    "pycharm": {
     "name": "#%%\n"
    }
   },
   "outputs": [
    {
     "name": "stdout",
     "output_type": "stream",
     "text": [
      "                  Start          End  Nclone\n",
      "Chromosome                                  \n",
      "1            30716764.0   30984527.0    19.0\n",
      "1            31136968.0   31957740.0    91.0\n",
      "1            72489681.0   72620747.0     5.0\n",
      "1           149369522.0  149394958.0     5.0\n",
      "2            61025070.0   61061211.0     5.0\n",
      "...                 ...          ...     ...\n",
      "8            41575958.0   42118548.0    55.0\n",
      "8            42123757.0   42175380.0     9.0\n",
      "8            48952907.0   49214104.0    27.0\n",
      "8            49291873.0   50106229.0    46.0\n",
      "8            50133866.0   50469104.0    16.0\n",
      "\n",
      "[150 rows x 3 columns]\n"
     ]
    }
   ],
   "source": [
    "print(topInfo.transpose().iloc[:-1].loc[modeller.get_best_features()[0]])"
   ]
  },
  {
   "cell_type": "code",
   "execution_count": 5,
   "metadata": {
    "pycharm": {
     "name": "#%%\n"
    }
   },
   "outputs": [
    {
     "data": {
      "text/html": [
       "<div>\n",
       "<style scoped>\n",
       "    .dataframe tbody tr th:only-of-type {\n",
       "        vertical-align: middle;\n",
       "    }\n",
       "\n",
       "    .dataframe tbody tr th {\n",
       "        vertical-align: top;\n",
       "    }\n",
       "\n",
       "    .dataframe thead th {\n",
       "        text-align: right;\n",
       "    }\n",
       "</style>\n",
       "<table border=\"1\" class=\"dataframe\">\n",
       "  <thead>\n",
       "    <tr style=\"text-align: right;\">\n",
       "      <th></th>\n",
       "      <th></th>\n",
       "      <th>Value</th>\n",
       "    </tr>\n",
       "    <tr>\n",
       "      <th>C</th>\n",
       "      <th>l1_ratio</th>\n",
       "      <th></th>\n",
       "    </tr>\n",
       "  </thead>\n",
       "  <tbody>\n",
       "    <tr>\n",
       "      <th rowspan=\"5\" valign=\"top\">100.00</th>\n",
       "      <th>0.1</th>\n",
       "      <td>0.6750</td>\n",
       "    </tr>\n",
       "    <tr>\n",
       "      <th>0.3</th>\n",
       "      <td>0.6625</td>\n",
       "    </tr>\n",
       "    <tr>\n",
       "      <th>0.5</th>\n",
       "      <td>0.6625</td>\n",
       "    </tr>\n",
       "    <tr>\n",
       "      <th>0.7</th>\n",
       "      <td>0.6625</td>\n",
       "    </tr>\n",
       "    <tr>\n",
       "      <th>0.9</th>\n",
       "      <td>0.6625</td>\n",
       "    </tr>\n",
       "    <tr>\n",
       "      <th>...</th>\n",
       "      <th>...</th>\n",
       "      <td>...</td>\n",
       "    </tr>\n",
       "    <tr>\n",
       "      <th rowspan=\"5\" valign=\"top\">0.01</th>\n",
       "      <th>0.1</th>\n",
       "      <td>0.3750</td>\n",
       "    </tr>\n",
       "    <tr>\n",
       "      <th>0.3</th>\n",
       "      <td>0.3250</td>\n",
       "    </tr>\n",
       "    <tr>\n",
       "      <th>0.5</th>\n",
       "      <td>0.3500</td>\n",
       "    </tr>\n",
       "    <tr>\n",
       "      <th>0.7</th>\n",
       "      <td>0.3500</td>\n",
       "    </tr>\n",
       "    <tr>\n",
       "      <th>0.9</th>\n",
       "      <td>0.3125</td>\n",
       "    </tr>\n",
       "  </tbody>\n",
       "</table>\n",
       "<p>125 rows × 1 columns</p>\n",
       "</div>"
      ],
      "text/plain": [
       "                  Value\n",
       "C      l1_ratio        \n",
       "100.00 0.1       0.6750\n",
       "       0.3       0.6625\n",
       "       0.5       0.6625\n",
       "       0.7       0.6625\n",
       "       0.9       0.6625\n",
       "...                 ...\n",
       "0.01   0.1       0.3750\n",
       "       0.3       0.3250\n",
       "       0.5       0.3500\n",
       "       0.7       0.3500\n",
       "       0.9       0.3125\n",
       "\n",
       "[125 rows x 1 columns]"
      ]
     },
     "execution_count": 5,
     "metadata": {},
     "output_type": "execute_result"
    }
   ],
   "source": [
    "modeller.all_accuracies"
   ]
  },
  {
   "cell_type": "code",
   "execution_count": 41,
   "metadata": {
    "pycharm": {
     "name": "#%%\n"
    }
   },
   "outputs": [
    {
     "data": {
      "text/html": [
       "<div>\n",
       "<style scoped>\n",
       "    .dataframe tbody tr th:only-of-type {\n",
       "        vertical-align: middle;\n",
       "    }\n",
       "\n",
       "    .dataframe tbody tr th {\n",
       "        vertical-align: top;\n",
       "    }\n",
       "\n",
       "    .dataframe thead th {\n",
       "        text-align: right;\n",
       "    }\n",
       "</style>\n",
       "<table border=\"1\" class=\"dataframe\">\n",
       "  <thead>\n",
       "    <tr style=\"text-align: right;\">\n",
       "      <th>C</th>\n",
       "      <th>0.01</th>\n",
       "      <th>0.10</th>\n",
       "      <th>1.00</th>\n",
       "      <th>10.00</th>\n",
       "      <th>100.00</th>\n",
       "    </tr>\n",
       "    <tr>\n",
       "      <th>l1_ratio</th>\n",
       "      <th></th>\n",
       "      <th></th>\n",
       "      <th></th>\n",
       "      <th></th>\n",
       "      <th></th>\n",
       "    </tr>\n",
       "  </thead>\n",
       "  <tbody>\n",
       "    <tr>\n",
       "      <th>0.1</th>\n",
       "      <td>0.3675</td>\n",
       "      <td>0.6725</td>\n",
       "      <td>0.6700</td>\n",
       "      <td>0.6525</td>\n",
       "      <td>0.6300</td>\n",
       "    </tr>\n",
       "    <tr>\n",
       "      <th>0.3</th>\n",
       "      <td>0.3475</td>\n",
       "      <td>0.6375</td>\n",
       "      <td>0.6850</td>\n",
       "      <td>0.6525</td>\n",
       "      <td>0.6300</td>\n",
       "    </tr>\n",
       "    <tr>\n",
       "      <th>0.5</th>\n",
       "      <td>0.3325</td>\n",
       "      <td>0.5650</td>\n",
       "      <td>0.6925</td>\n",
       "      <td>0.6550</td>\n",
       "      <td>0.6275</td>\n",
       "    </tr>\n",
       "    <tr>\n",
       "      <th>0.7</th>\n",
       "      <td>0.3500</td>\n",
       "      <td>0.4900</td>\n",
       "      <td>0.6925</td>\n",
       "      <td>0.6650</td>\n",
       "      <td>0.6300</td>\n",
       "    </tr>\n",
       "    <tr>\n",
       "      <th>0.9</th>\n",
       "      <td>0.3450</td>\n",
       "      <td>0.4050</td>\n",
       "      <td>0.7025</td>\n",
       "      <td>0.6750</td>\n",
       "      <td>0.6275</td>\n",
       "    </tr>\n",
       "  </tbody>\n",
       "</table>\n",
       "</div>"
      ],
      "text/plain": [
       "C         0.01    0.10    1.00    10.00   100.00\n",
       "l1_ratio                                        \n",
       "0.1       0.3675  0.6725  0.6700  0.6525  0.6300\n",
       "0.3       0.3475  0.6375  0.6850  0.6525  0.6300\n",
       "0.5       0.3325  0.5650  0.6925  0.6550  0.6275\n",
       "0.7       0.3500  0.4900  0.6925  0.6650  0.6300\n",
       "0.9       0.3450  0.4050  0.7025  0.6750  0.6275"
      ]
     },
     "execution_count": 41,
     "metadata": {},
     "output_type": "execute_result"
    }
   ],
   "source": [
    "modeller.all_accuracies.reset_index().pivot_table(index=\"l1_ratio\",columns=\"C\", aggfunc=\"mean\")[\"Value\"]"
   ]
  },
  {
   "cell_type": "code",
   "execution_count": null,
   "metadata": {
    "pycharm": {
     "name": "#%%\n"
    }
   },
   "outputs": [],
   "source": [
    "cm = confusion_matrix(data.index, modeller.predict(data))\n",
    "disp = ConfusionMatrixDisplay(confusion_matrix=cm,\n",
    "                             display_labels=modeller.get_best_model().classes_)\n",
    "disp.plot()"
   ]
  },
  {
   "cell_type": "code",
   "execution_count": null,
   "metadata": {
    "pycharm": {
     "name": "#%%\n"
    }
   },
   "outputs": [],
   "source": [
    "import scipy.stats as stats\n",
    "\n",
    "stats.wilcoxon(modeller.predict(data), data.index)"
   ]
  },
  {
   "cell_type": "code",
   "execution_count": null,
   "metadata": {
    "pycharm": {
     "name": "#%%\n"
    }
   },
   "outputs": [],
   "source": [
    "print(modeller.get_best_features())"
   ]
  },
  {
   "cell_type": "markdown",
   "metadata": {},
   "source": [
    "#todo\n",
    "box plots accuracy, precision, recall\n",
    "best model. and params features\n",
    "\n",
    "save all the juicy info (params, and features)"
   ]
  },
  {
   "cell_type": "code",
   "execution_count": null,
   "metadata": {
    "pycharm": {
     "name": "#%%\n"
    }
   },
   "outputs": [],
   "source": [
    "print(model.__callable__(\"predict_proba\")==True)"
   ]
  }
 ],
 "metadata": {
  "kernelspec": {
   "display_name": "Python 3",
   "language": "python",
   "name": "python3"
  },
  "language_info": {
   "codemirror_mode": {
    "name": "ipython",
    "version": 3
   },
   "file_extension": ".py",
   "mimetype": "text/x-python",
   "name": "python",
   "nbconvert_exporter": "python",
   "pygments_lexer": "ipython3",
   "version": "3.8.5"
  }
 },
 "nbformat": 4,
 "nbformat_minor": 1
}
